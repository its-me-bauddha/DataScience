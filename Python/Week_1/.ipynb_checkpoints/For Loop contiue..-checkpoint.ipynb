{
 "cells": [
  {
   "cell_type": "code",
   "execution_count": 13,
   "id": "68c28cdd",
   "metadata": {},
   "outputs": [
    {
     "name": "stdout",
     "output_type": "stream",
     "text": [
      "enter n :4\n",
      "2.67\n"
     ]
    }
   ],
   "source": [
    "# sequence sum \n",
    "n = int (input(\"enter n :\"))\n",
    "result = 0\n",
    "fact =1\n",
    "for i in range(1,n+1):\n",
    "    fact = fact*i\n",
    "    result = result + i/fact\n",
    "    \n",
    "print(round(result,2))    \n",
    "     \n",
    " \n",
    "        "
   ]
  },
  {
   "cell_type": "markdown",
   "id": "88c91371",
   "metadata": {},
   "source": [
    "# Nested Loops"
   ]
  },
  {
   "cell_type": "markdown",
   "id": "c172582d",
   "metadata": {},
   "source": [
    " Pattern 1\n",
    " \n",
    " *\n",
    " **\n",
    " ***\n",
    " ****\n",
    " *****\n"
   ]
  },
  {
   "cell_type": "code",
   "execution_count": 17,
   "id": "40397e74",
   "metadata": {},
   "outputs": [
    {
     "name": "stdout",
     "output_type": "stream",
     "text": [
      "i ->  1 j ->  1\n",
      "i ->  1 j ->  2\n",
      "i ->  1 j ->  3\n",
      "i ->  1 j ->  4\n",
      "i ->  2 j ->  1\n",
      "i ->  2 j ->  2\n",
      "i ->  2 j ->  3\n",
      "i ->  2 j ->  4\n",
      "i ->  3 j ->  1\n",
      "i ->  3 j ->  2\n",
      "i ->  3 j ->  3\n",
      "i ->  3 j ->  4\n",
      "i ->  4 j ->  1\n",
      "i ->  4 j ->  2\n",
      "i ->  4 j ->  3\n",
      "i ->  4 j ->  4\n"
     ]
    }
   ],
   "source": [
    "for i in range(1,5):\n",
    "    for j in range(1,5):\n",
    "        print('i -> ', i,'j -> ' ,j)\n",
    "    "
   ]
  },
  {
   "cell_type": "code",
   "execution_count": 21,
   "id": "5751ab64",
   "metadata": {},
   "outputs": [
    {
     "name": "stdout",
     "output_type": "stream",
     "text": [
      "enter number of rows5\n",
      "* \n",
      "* * \n",
      "* * * \n",
      "* * * * \n",
      "* * * * * \n"
     ]
    }
   ],
   "source": [
    "# pattern 1 \n",
    "rows = int(input('enter number of rows'))\n",
    "for i in range(1,rows+1):\n",
    "    for i in range(1,i+1):\n",
    "        print(\"*\" ,end=' ')\n",
    "    print()"
   ]
  },
  {
   "cell_type": "code",
   "execution_count": 27,
   "id": "244f9620",
   "metadata": {},
   "outputs": [
    {
     "name": "stdout",
     "output_type": "stream",
     "text": [
      "enter rows -> 5\n",
      "1 \n",
      "1 2 1 \n",
      "1 2 3 2 1 \n",
      "1 2 3 4 3 2 1 \n",
      "1 2 3 4 5 4 3 2 1 \n"
     ]
    }
   ],
   "source": [
    "# pattern 2\n",
    "# 1\n",
    "# 121\n",
    "# 12321\n",
    "\n",
    "rows  =int(input('enter rows -> '))\n",
    "for i in range(1,rows+1):\n",
    "    for j in range(1,i+1):\n",
    "        print(j,end=' ')\n",
    "    for k in range(i-1,0,-1):\n",
    "        print(k,end=' ')\n",
    "    print()\n",
    "    "
   ]
  },
  {
   "cell_type": "markdown",
   "id": "b7d835a5",
   "metadata": {},
   "source": [
    "# Loop control Statements \n",
    "### break\n",
    "### continue\n",
    "### pass"
   ]
  },
  {
   "cell_type": "code",
   "execution_count": 29,
   "id": "434510fe",
   "metadata": {},
   "outputs": [
    {
     "name": "stdout",
     "output_type": "stream",
     "text": [
      "1\n",
      "2\n",
      "3\n",
      "4\n"
     ]
    }
   ],
   "source": [
    "# break statement\n",
    "for i in range(1,10):\n",
    "    if i==5:\n",
    "        break\n",
    "    print(i)"
   ]
  },
  {
   "cell_type": "code",
   "execution_count": 31,
   "id": "bfcdecab",
   "metadata": {},
   "outputs": [
    {
     "name": "stdout",
     "output_type": "stream",
     "text": [
      "1\n",
      "2\n",
      "3\n",
      "4\n",
      "6\n",
      "7\n",
      "8\n",
      "9\n"
     ]
    }
   ],
   "source": [
    "# continue statement \n",
    "for i in range(1,10):\n",
    "    if i==5:\n",
    "        continue\n",
    "    print(i)"
   ]
  },
  {
   "cell_type": "code",
   "execution_count": 44,
   "id": "3f9e0f1b",
   "metadata": {},
   "outputs": [],
   "source": [
    "# pass statement\n",
    "for i in range(1,10):\n",
    "    if i==5:\n",
    "        pass\n",
    "  "
   ]
  },
  {
   "cell_type": "code",
   "execution_count": 41,
   "id": "6350b238",
   "metadata": {},
   "outputs": [
    {
     "name": "stdout",
     "output_type": "stream",
     "text": [
      "enter lower range -> 1\n",
      "enter upper range -> 50\n",
      "1\n",
      "2\n",
      "3\n",
      "5\n",
      "7\n",
      "11\n",
      "13\n",
      "17\n",
      "19\n",
      "23\n",
      "29\n",
      "31\n",
      "37\n",
      "41\n",
      "43\n",
      "47\n"
     ]
    }
   ],
   "source": [
    "# print all prime number between a given range\n",
    "\n",
    "low = int(input('enter lower range -> '))\n",
    "up = int (input('enter upper range -> '))\n",
    "\n",
    "for i in range(low,up + 1):\n",
    "    for j in range(2,i):\n",
    "        if i%j==0:\n",
    "            break\n",
    "    else:\n",
    "        print(i)\n",
    "        "
   ]
  },
  {
   "cell_type": "code",
   "execution_count": null,
   "id": "eb779174",
   "metadata": {},
   "outputs": [],
   "source": []
  }
 ],
 "metadata": {
  "kernelspec": {
   "display_name": "Python 3 (ipykernel)",
   "language": "python",
   "name": "python3"
  },
  "language_info": {
   "codemirror_mode": {
    "name": "ipython",
    "version": 3
   },
   "file_extension": ".py",
   "mimetype": "text/x-python",
   "name": "python",
   "nbconvert_exporter": "python",
   "pygments_lexer": "ipython3",
   "version": "3.11.4"
  }
 },
 "nbformat": 4,
 "nbformat_minor": 5
}
