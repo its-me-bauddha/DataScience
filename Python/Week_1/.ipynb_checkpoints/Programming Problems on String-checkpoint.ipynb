{
 "cells": [
  {
   "cell_type": "code",
   "execution_count": 8,
   "id": "f00bfcf8",
   "metadata": {},
   "outputs": [
    {
     "name": "stdout",
     "output_type": "stream",
     "text": [
      "Enter the string -> harsh\n",
      "length of the string  5\n"
     ]
    }
   ],
   "source": [
    "# find out length\n",
    "s = input(\"Enter the string -> \")\n",
    "counter =0;\n",
    "for i in s:\n",
    "    counter+=1\n",
    " \n",
    "print(\"length of the string \" , counter)"
   ]
  },
  {
   "cell_type": "code",
   "execution_count": 10,
   "id": "83eb6bae",
   "metadata": {},
   "outputs": [
    {
     "name": "stdout",
     "output_type": "stream",
     "text": [
      "Enter the email -> ha@\n",
      "ha\n"
     ]
    }
   ],
   "source": [
    "s = input(\"Enter the email -> \")\n",
    "pos = s.index('@')\n",
    "\n",
    "print(s[0:pos])"
   ]
  },
  {
   "cell_type": "code",
   "execution_count": 14,
   "id": "2e067a7b",
   "metadata": {},
   "outputs": [
    {
     "name": "stdout",
     "output_type": "stream",
     "text": [
      "Enter the sentence -> hii, how are you ? \n",
      "Enter the word to search -> o\n",
      "frequency 2\n"
     ]
    }
   ],
   "source": [
    "s = input(\"Enter the sentence -> \")\n",
    "term = input(\"Enter the word to search -> \")\n",
    "counter = 0\n",
    "for i in s :\n",
    "    if i==term:\n",
    "        counter +=1\n",
    "print('frequency' ,counter)"
   ]
  },
  {
   "cell_type": "code",
   "execution_count": 16,
   "id": "2b14df0e",
   "metadata": {},
   "outputs": [
    {
     "name": "stdout",
     "output_type": "stream",
     "text": [
      "Enter the string -> harsh\n",
      "Enter the remove -> a\n",
      "hrsh\n"
     ]
    }
   ],
   "source": [
    "s = input(\"Enter the string -> \")\n",
    "term = input(\"Enter the remove -> \")\n",
    "\n",
    "result = ''\n",
    "for i in s:\n",
    "    if i !=term:\n",
    "        result = result+i\n",
    "print(result)"
   ]
  },
  {
   "cell_type": "code",
   "execution_count": 19,
   "id": "a1e42f95",
   "metadata": {},
   "outputs": [
    {
     "name": "stdout",
     "output_type": "stream",
     "text": [
      "Enter the sentence -> harsh\n",
      "Not Palindrome\n"
     ]
    }
   ],
   "source": [
    "#palindrome string ? \n",
    "s = input(\"Enter the sentence -> \")\n",
    "flag =True\n",
    "for i in range(0,len(s)//2):\n",
    "    if s[i] != s[len(s)-i-1]:\n",
    "        flag=False\n",
    "        print(\"Not Palindrome\")\n",
    "        break\n",
    "if flag:\n",
    "    print('Palindrome')"
   ]
  },
  {
   "cell_type": "code",
   "execution_count": null,
   "id": "27364bdb",
   "metadata": {},
   "outputs": [],
   "source": [
    "s = input(\"Enter the string -> \")\n",
    "temp =''\n",
    "l=[]\n",
    "for i in s:\n",
    "    if i != ' ':\n",
    "        temp = temp+i\n",
    "    else:\n",
    "        l.append(temp)\n",
    "        temp =''\n",
    "print(l)"
   ]
  }
 ],
 "metadata": {
  "kernelspec": {
   "display_name": "Python 3 (ipykernel)",
   "language": "python",
   "name": "python3"
  },
  "language_info": {
   "codemirror_mode": {
    "name": "ipython",
    "version": 3
   },
   "file_extension": ".py",
   "mimetype": "text/x-python",
   "name": "python",
   "nbconvert_exporter": "python",
   "pygments_lexer": "ipython3",
   "version": "3.11.4"
  }
 },
 "nbformat": 4,
 "nbformat_minor": 5
}
