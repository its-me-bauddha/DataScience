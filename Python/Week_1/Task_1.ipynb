{
 "cells": [
  {
   "cell_type": "code",
   "execution_count": 3,
   "id": "7e938a86",
   "metadata": {},
   "outputs": [
    {
     "name": "stdout",
     "output_type": "stream",
     "text": [
      "Data-Science-Mentorship-Program-By-CampusX\n"
     ]
    }
   ],
   "source": [
    "# Q1.Print the given strings as per stated format.\n",
    "\n",
    "# Given strings:\n",
    "# \"Data\" \"Science\" \"Mentorship\" \"Program\" \n",
    "# \"By\" \"CampusX\"\n",
    "\n",
    "# Output:\n",
    "# Data-Science-Mentorship-Program-started-By-CampusX\n",
    "\n",
    "# Write your code here\n",
    "print(\"Data\" ,\"Science\" ,\"Mentorship\" ,\"Program\", \"By\" ,\"CampusX\" , sep = '-')"
   ]
  },
  {
   "cell_type": "code",
   "execution_count": 6,
   "id": "3e50cb82",
   "metadata": {},
   "outputs": [
    {
     "name": "stdout",
     "output_type": "stream",
     "text": [
      "enter the temperature in celsius : 100\n",
      "Temp in fah is :  212.0\n"
     ]
    }
   ],
   "source": [
    "# Q2:- Write a program that will convert celsius value to fahrenheit.\n",
    "# Write your code here\n",
    "celsius = float(input(\"enter the temperature in celsius : \"))\n",
    "fah = celsius *  (9/5) + 32\n",
    "print(\"Temp in fah is : \" ,fah)"
   ]
  },
  {
   "cell_type": "code",
   "execution_count": 12,
   "id": "6ac88376",
   "metadata": {},
   "outputs": [
    {
     "name": "stdout",
     "output_type": "stream",
     "text": [
      "enter number 1 : 23\n",
      "enter number 2 : 21\n",
      "Number before swapping :  num1. : ->  23 and num2. : ->  21\n",
      "Number after swapping :  num1. : ->  21 and num2. : ->  23\n"
     ]
    }
   ],
   "source": [
    "# Q3:- Take 2 numbers as input from the user.Write a program to swap \n",
    "# the numbers without using any special python syntax.\n",
    "num1 = int(input(\"enter number 1 : \"))\n",
    "num2 = int (input(\"enter number 2 : \"))\n",
    "\n",
    "print(\"Number before swapping : \" , \"num1. : -> \", num1 , \"and\", \"num2. : -> \",num2)\n",
    "# swapping \n",
    "num3 = num1\n",
    "num1 = num2\n",
    "num2 = num3\n",
    "print(\"Number after swapping : \" , \"num1. : -> \", num1 , \"and\", \"num2. : -> \",num2)"
   ]
  },
  {
   "cell_type": "code",
   "execution_count": null,
   "id": "ea993747",
   "metadata": {},
   "outputs": [],
   "source": [
    "# Q4:- Write a program to find the euclidean distance between two coordinates.\n",
    "# Take both the coordinates from the user as input.\n",
    "\n",
    "x1 = float(input(\"Enter value of x1 : \"))\n",
    "x2 = float(input(\"Enter value of x2 : \"))\n",
    "y1 = float(input(\"Enter value of y1 : \"))\n",
    "y2 = float(input(\"Enter value of y2 : \"))\n",
    "\n",
    "\n",
    "print(x)"
   ]
  },
  {
   "cell_type": "code",
   "execution_count": 17,
   "id": "28f693ff",
   "metadata": {},
   "outputs": [
    {
     "name": "stdout",
     "output_type": "stream",
     "text": [
      "Enter the principle value : 1200\n",
      "Enter the rate of interest : 2\n",
      "Enter the time period :2\n",
      "The Simple interest is :  ->  48.0\n"
     ]
    }
   ],
   "source": [
    "# Q5:- Write a program to find the simple interest when\n",
    "# the value of principle,rate of interest and time period is provided by the user.\n",
    "p = float(input(\"Enter the principle value : \"))\n",
    "r = float(input(\"Enter the rate of interest : \"))\n",
    "t = float(input(\"Enter the time period :\"))\n",
    "\n",
    "interest = (p*r*t)/100\n",
    "print(\"The Simple interest is :  -> \" , interest)"
   ]
  },
  {
   "cell_type": "code",
   "execution_count": 28,
   "id": "d28ae398",
   "metadata": {},
   "outputs": [
    {
     "name": "stdout",
     "output_type": "stream",
     "text": [
      "Number of dogs -> 3\n",
      "Number of chicken -> 3\n",
      "Number of heads are ->  6 Number of legs are ->  18\n"
     ]
    }
   ],
   "source": [
    "# Q6:- Write a program that will tell the number of dogs and chicken\n",
    "# are there when the user will provide the value of total heads and legs.\n",
    "dogs = int(input(\"Number of dogs -> \"))\n",
    "chickens = int (input(\"Number of chicken -> \"))\n",
    "heads = dogs + chickens\n",
    "legs = (dogs*4)+(chickens*2)\n",
    "print(\"Number of heads are -> \", heads , \"Number of legs are -> \",legs)"
   ]
  },
  {
   "cell_type": "code",
   "execution_count": null,
   "id": "b66d886d",
   "metadata": {},
   "outputs": [],
   "source": [
    "# Q7:- Write a program to find the sum of squares of first n natural numbers where n will be provided by the user."
   ]
  },
  {
   "cell_type": "code",
   "execution_count": null,
   "id": "37d8dbd3",
   "metadata": {},
   "outputs": [],
   "source": [
    "# Q8:- Given the first 2 terms of an Arithmetic Series.Find the Nth term of the series. \n",
    "# Assume all inputs are provided by the user."
   ]
  },
  {
   "cell_type": "code",
   "execution_count": 29,
   "id": "581a2714",
   "metadata": {},
   "outputs": [],
   "source": [
    "# Q9:- Given 2 fractions, find the sum of those 2 fractions.\n",
    "# Take the numerator and denominator values of the fractions from the user."
   ]
  },
  {
   "cell_type": "code",
   "execution_count": null,
   "id": "d37bc480",
   "metadata": {},
   "outputs": [],
   "source": [
    "# Q10:- Given the height, width and breadth of a milk tank, you have to find out how many glasses of milk can be obtained? Assume all the inputs are provided by the user.\n",
    "# Input:\n",
    "# Dimensions of the milk tank\n",
    "# H = 20cm, L = 20cm, B = 20cm\n",
    "\n",
    "# Dimensions of the glass\n",
    "# h = 3cm, r = 1cm\n",
    "\n"
   ]
  }
 ],
 "metadata": {
  "kernelspec": {
   "display_name": "Python 3 (ipykernel)",
   "language": "python",
   "name": "python3"
  },
  "language_info": {
   "codemirror_mode": {
    "name": "ipython",
    "version": 3
   },
   "file_extension": ".py",
   "mimetype": "text/x-python",
   "name": "python",
   "nbconvert_exporter": "python",
   "pygments_lexer": "ipython3",
   "version": "3.11.4"
  }
 },
 "nbformat": 4,
 "nbformat_minor": 5
}
