{
 "cells": [
  {
   "cell_type": "markdown",
   "id": "4291e4c5",
   "metadata": {},
   "source": [
    "# Loops in Python\n",
    "### Need for Loops\n",
    "### while loop\n",
    "### for loop\n"
   ]
  },
  {
   "cell_type": "code",
   "execution_count": 6,
   "id": "0dd71332",
   "metadata": {},
   "outputs": [
    {
     "name": "stdout",
     "output_type": "stream",
     "text": [
      "Enter the number 12\n",
      "12\n",
      "24\n",
      "36\n",
      "48\n",
      "60\n",
      "72\n",
      "84\n",
      "96\n",
      "108\n",
      "120\n"
     ]
    }
   ],
   "source": [
    "# Print table using while loop\n",
    "\n",
    "num = int(input(\"Enter the number \"))\n",
    "i=1\n",
    "while i < 11 :\n",
    "    print(num *i)\n",
    "    i += 1"
   ]
  },
  {
   "cell_type": "code",
   "execution_count": 8,
   "id": "a8f33404",
   "metadata": {},
   "outputs": [
    {
     "name": "stdout",
     "output_type": "stream",
     "text": [
      "1\n",
      "2\n",
      "limit crossed\n"
     ]
    }
   ],
   "source": [
    "x = 1\n",
    "while x < 3:\n",
    "    print(x)\n",
    "    x+=1\n",
    "\n",
    "else :\n",
    "    print(\"limit crossed\")"
   ]
  },
  {
   "cell_type": "code",
   "execution_count": 14,
   "id": "e1676059",
   "metadata": {},
   "outputs": [
    {
     "name": "stdout",
     "output_type": "stream",
     "text": [
      "Guess the number ...50\n",
      "Guess Lower than 50\n",
      "Guess the number again ...25\n",
      "Guess higher number than  25\n",
      "Guess the number again ...37\n",
      "Guess higher number than  37\n",
      "Guess the number again ...43\n",
      "Guess higher number than  43\n",
      "Guess the number again ...46\n",
      "Guess higher number than  46\n",
      "Guess the number again ...48\n",
      "Guess higher number than  48\n",
      "Guess the number again ...49\n",
      "correct guess 7 attemps\n"
     ]
    }
   ],
   "source": [
    "# Gussing Game \n",
    "# generate number between 1 and 100\n",
    "import random \n",
    "jackpot = random.randint(1,100)\n",
    "guess = int(input(\"Guess the number ...\"))\n",
    "counter  =1\n",
    "while guess != jackpot :\n",
    "    if guess < jackpot :\n",
    "        print(\"Guess higher number than \" ,guess)\n",
    "    else :\n",
    "        print(\"Guess Lower than\" , guess)\n",
    "    guess = int(input(\"Guess the number again ...\"))\n",
    "    counter +=1\n",
    "else :\n",
    "    print('correct guess' ,counter ,\"attemps\")"
   ]
  },
  {
   "cell_type": "code",
   "execution_count": 16,
   "id": "fd2e2ba4",
   "metadata": {},
   "outputs": [
    {
     "name": "stdout",
     "output_type": "stream",
     "text": [
      "1\n",
      "2\n",
      "3\n",
      "4\n",
      "5\n",
      "6\n",
      "7\n",
      "8\n",
      "9\n",
      "10\n"
     ]
    }
   ],
   "source": [
    "# for loop \n",
    "for i in range(1,11): # 11 is excluded \n",
    "    print(i)"
   ]
  },
  {
   "cell_type": "code",
   "execution_count": 18,
   "id": "e3bfa54c",
   "metadata": {},
   "outputs": [
    {
     "name": "stdout",
     "output_type": "stream",
     "text": [
      "1\n",
      "3\n",
      "5\n",
      "7\n",
      "9\n"
     ]
    }
   ],
   "source": [
    "for i in range(1,11,2): # 11 is excluded  2 - >steps \n",
    "    print(i)"
   ]
  },
  {
   "cell_type": "code",
   "execution_count": 20,
   "id": "60eda003",
   "metadata": {},
   "outputs": [
    {
     "name": "stdout",
     "output_type": "stream",
     "text": [
      "10\n",
      "9\n",
      "8\n",
      "7\n",
      "6\n",
      "5\n",
      "4\n",
      "3\n",
      "2\n",
      "1\n"
     ]
    }
   ],
   "source": [
    "for i in range (10,0,-1):\n",
    "    print(i)"
   ]
  },
  {
   "cell_type": "code",
   "execution_count": 23,
   "id": "227eb363",
   "metadata": {},
   "outputs": [
    {
     "name": "stdout",
     "output_type": "stream",
     "text": [
      "d\n",
      "e\n",
      "l\n",
      "h\n",
      "i\n"
     ]
    }
   ],
   "source": [
    "for i in \"delhi\":\n",
    "    print(i)"
   ]
  },
  {
   "cell_type": "code",
   "execution_count": 25,
   "id": "8d033587",
   "metadata": {},
   "outputs": [
    {
     "name": "stdout",
     "output_type": "stream",
     "text": [
      "1\n",
      "2\n",
      "4\n",
      "harsh\n",
      "4\n",
      "3\n",
      "2\n"
     ]
    }
   ],
   "source": [
    "for i in [1,2,4,'harsh',4,3,2]:\n",
    "    print(i)"
   ]
  },
  {
   "cell_type": "code",
   "execution_count": 26,
   "id": "9bb3a42b",
   "metadata": {},
   "outputs": [
    {
     "name": "stdout",
     "output_type": "stream",
     "text": [
      "10 10000\n",
      "9 9000.0\n",
      "8 8100.0\n",
      "7 7290.0\n",
      "6 6561.0\n",
      "5 5904.9\n",
      "4 5314.41\n",
      "3 4782.969\n",
      "2 4304.6721\n",
      "1 3874.20489\n"
     ]
    }
   ],
   "source": [
    "currPop = 10000\n",
    "for i in range(10,0,-1):\n",
    "    print(i,currPop)\n",
    "    currPop = currPop - 0.1*currPop"
   ]
  }
 ],
 "metadata": {
  "kernelspec": {
   "display_name": "Python 3 (ipykernel)",
   "language": "python",
   "name": "python3"
  },
  "language_info": {
   "codemirror_mode": {
    "name": "ipython",
    "version": 3
   },
   "file_extension": ".py",
   "mimetype": "text/x-python",
   "name": "python",
   "nbconvert_exporter": "python",
   "pygments_lexer": "ipython3",
   "version": "3.11.4"
  }
 },
 "nbformat": 4,
 "nbformat_minor": 5
}
