{
 "cells": [
  {
   "cell_type": "markdown",
   "id": "72dd466e",
   "metadata": {},
   "source": [
    "# OPERATORS IN PYTHON\n",
    " ### Arithmetic Operators \n",
    " ### Relational Operators \n",
    " ### Logical Operators \n",
    " ### Bitwise Operators \n",
    " ### Assignment Operators  \n",
    " ### Membership Operators \n",
    " "
   ]
  },
  {
   "cell_type": "code",
   "execution_count": 5,
   "id": "27b95d6b",
   "metadata": {},
   "outputs": [
    {
     "name": "stdout",
     "output_type": "stream",
     "text": [
      "11\n",
      "-1\n",
      "30\n",
      "0.8333333333333334\n",
      "0\n",
      "5\n",
      "25\n"
     ]
    }
   ],
   "source": [
    "# Arithmetic Operators\n",
    "print(5+6)\n",
    "print(5-6)\n",
    "print(5*6)\n",
    "print(5/6)\n",
    "print(5//6) # integer division\n",
    "print(5%6)\n",
    "print(5**2) "
   ]
  },
  {
   "cell_type": "code",
   "execution_count": 7,
   "id": "f26b3343",
   "metadata": {},
   "outputs": [
    {
     "name": "stdout",
     "output_type": "stream",
     "text": [
      "False\n",
      "True\n",
      "False\n",
      "True\n",
      "True\n",
      "False\n"
     ]
    }
   ],
   "source": [
    "# Relational Operators \n",
    "print(4>5)\n",
    "print(4<5)\n",
    "print(4>=5)\n",
    "print(4<=5)\n",
    "print(4==4)\n",
    "print(4!=4)"
   ]
  },
  {
   "cell_type": "code",
   "execution_count": 9,
   "id": "a505fdf8",
   "metadata": {},
   "outputs": [
    {
     "name": "stdout",
     "output_type": "stream",
     "text": [
      "0\n",
      "1\n",
      "False\n",
      "True\n"
     ]
    }
   ],
   "source": [
    "# Logical operators \n",
    "print(1 and 0)\n",
    "print(1 or 0)\n",
    "print(not 1)\n",
    "print(not 0)"
   ]
  },
  {
   "cell_type": "code",
   "execution_count": 15,
   "id": "1929918e",
   "metadata": {},
   "outputs": [
    {
     "name": "stdout",
     "output_type": "stream",
     "text": [
      "2\n",
      "3\n",
      "1\n",
      "-3 -4\n",
      "1\n",
      "16\n"
     ]
    }
   ],
   "source": [
    "# Bitwise Operators\n",
    "print(2 & 3) # bitwise and\n",
    "print(2 | 3) #bitwise or\n",
    "print(2 ^ 3)#bitwise xor\n",
    "print(~2 , ~3) #bitwise not\n",
    "print(4>>2) #bitwise left shift\n",
    "print(4<<2) #bitwise right shift"
   ]
  },
  {
   "cell_type": "code",
   "execution_count": 18,
   "id": "c38f6eaa",
   "metadata": {},
   "outputs": [
    {
     "name": "stdout",
     "output_type": "stream",
     "text": [
      "2\n",
      "4\n",
      "2\n",
      "4\n",
      "2.0\n",
      "0.0\n"
     ]
    }
   ],
   "source": [
    "# Assignment Operator\n",
    "a = 2\n",
    "print(a)\n",
    "a +=2\n",
    "print(a)\n",
    "a -=2\n",
    "print(a)\n",
    "a *=2\n",
    "print(a)\n",
    "a /= 2\n",
    "print(a)\n",
    "a %= 2\n",
    "print(a)"
   ]
  },
  {
   "cell_type": "code",
   "execution_count": 25,
   "id": "eaa201b8",
   "metadata": {},
   "outputs": [
    {
     "name": "stdout",
     "output_type": "stream",
     "text": [
      "True\n",
      "False\n",
      "True\n",
      "False\n",
      "True\n"
     ]
    }
   ],
   "source": [
    "# Membership Operator \n",
    "# IN & NOT IN\n",
    "print('D' in \"Delhi\")\n",
    "print('H' in \"Delhi\")\n",
    "print('H' not in \"Delhi\")\n",
    "print('D' not in \"Delhi\")\n",
    "print(1 in [1,2,3,4,5])"
   ]
  },
  {
   "cell_type": "code",
   "execution_count": 26,
   "id": "8d242737",
   "metadata": {},
   "outputs": [
    {
     "name": "stdout",
     "output_type": "stream",
     "text": [
      "Enter three digit number -> 234\n",
      "9\n"
     ]
    }
   ],
   "source": [
    "# Program - Find the sum of a 3 digit number entered by the user\n",
    "num = int(input(\"Enter three digit number -> \"))\n",
    "a =num%10\n",
    "num=num//10\n",
    "b= num%10\n",
    "num = num//10\n",
    "c= num%10\n",
    "print(a+b+c)\n",
    "   "
   ]
  }
 ],
 "metadata": {
  "kernelspec": {
   "display_name": "Python 3 (ipykernel)",
   "language": "python",
   "name": "python3"
  },
  "language_info": {
   "codemirror_mode": {
    "name": "ipython",
    "version": 3
   },
   "file_extension": ".py",
   "mimetype": "text/x-python",
   "name": "python",
   "nbconvert_exporter": "python",
   "pygments_lexer": "ipython3",
   "version": "3.11.4"
  }
 },
 "nbformat": 4,
 "nbformat_minor": 5
}
