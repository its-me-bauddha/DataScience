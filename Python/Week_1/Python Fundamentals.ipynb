{
 "cells": [
  {
   "cell_type": "markdown",
   "id": "c57167ad",
   "metadata": {},
   "source": [
    "# Print Function\n",
    "\n",
    "Python is a case sensitive language. "
   ]
  },
  {
   "cell_type": "code",
   "execution_count": null,
   "id": "9887d736",
   "metadata": {},
   "outputs": [],
   "source": [
    "print(\"Hello World ..\")"
   ]
  },
  {
   "cell_type": "code",
   "execution_count": null,
   "id": "0aa2c863",
   "metadata": {},
   "outputs": [],
   "source": [
    "print(\"Python is case sensituve\")"
   ]
  },
  {
   "cell_type": "code",
   "execution_count": 6,
   "id": "65523b57",
   "metadata": {},
   "outputs": [
    {
     "name": "stdout",
     "output_type": "stream",
     "text": [
      "7\n",
      "7.7\n"
     ]
    }
   ],
   "source": [
    "print(7)\n",
    "print(7.7)"
   ]
  },
  {
   "cell_type": "code",
   "execution_count": 9,
   "id": "766c7519",
   "metadata": {},
   "outputs": [
    {
     "name": "stdout",
     "output_type": "stream",
     "text": [
      "True\n"
     ]
    }
   ],
   "source": [
    "print(True)"
   ]
  },
  {
   "cell_type": "code",
   "execution_count": 11,
   "id": "5dbd66f6",
   "metadata": {},
   "outputs": [
    {
     "name": "stdout",
     "output_type": "stream",
     "text": [
      "Hello 1 4 5 3 True\n"
     ]
    }
   ],
   "source": [
    "print('Hello',1,4,5,3,True)"
   ]
  },
  {
   "cell_type": "code",
   "execution_count": 13,
   "id": "dddbab97",
   "metadata": {},
   "outputs": [
    {
     "name": "stdout",
     "output_type": "stream",
     "text": [
      "Hello/1/4/5/3/True\n"
     ]
    }
   ],
   "source": [
    "print('Hello',1,4,5,3,True , sep='/')"
   ]
  },
  {
   "cell_type": "code",
   "execution_count": 15,
   "id": "8bf01933",
   "metadata": {},
   "outputs": [
    {
     "name": "stdout",
     "output_type": "stream",
     "text": [
      "hello\n",
      "world\n"
     ]
    }
   ],
   "source": [
    "print('hello')\n",
    "print('world')"
   ]
  },
  {
   "cell_type": "code",
   "execution_count": 17,
   "id": "d04fb865",
   "metadata": {},
   "outputs": [
    {
     "name": "stdout",
     "output_type": "stream",
     "text": [
      "hello-world\n"
     ]
    }
   ],
   "source": [
    "print('hello' , end='-')\n",
    "print('world')"
   ]
  },
  {
   "cell_type": "markdown",
   "id": "b75074a8",
   "metadata": {},
   "source": [
    "# Data Types"
   ]
  },
  {
   "cell_type": "code",
   "execution_count": 19,
   "id": "4d93fea7",
   "metadata": {},
   "outputs": [
    {
     "name": "stdout",
     "output_type": "stream",
     "text": [
      "8\n"
     ]
    }
   ],
   "source": [
    "#integer\n",
    "print(8)"
   ]
  },
  {
   "cell_type": "code",
   "execution_count": 21,
   "id": "36b2c36f",
   "metadata": {},
   "outputs": [
    {
     "name": "stdout",
     "output_type": "stream",
     "text": [
      "8.55\n"
     ]
    }
   ],
   "source": [
    "#float/decimal\n",
    "print(8.55)"
   ]
  },
  {
   "cell_type": "code",
   "execution_count": 23,
   "id": "d41e54da",
   "metadata": {},
   "outputs": [
    {
     "name": "stdout",
     "output_type": "stream",
     "text": [
      "True\n",
      "False\n"
     ]
    }
   ],
   "source": [
    "#boolean\n",
    "print(True)\n",
    "print(False)"
   ]
  },
  {
   "cell_type": "code",
   "execution_count": 25,
   "id": "2777cd1f",
   "metadata": {},
   "outputs": [
    {
     "name": "stdout",
     "output_type": "stream",
     "text": [
      "Hello World\n"
     ]
    }
   ],
   "source": [
    "#string\n",
    "print(\"Hello World\")"
   ]
  },
  {
   "cell_type": "code",
   "execution_count": 27,
   "id": "39763909",
   "metadata": {},
   "outputs": [
    {
     "name": "stdout",
     "output_type": "stream",
     "text": [
      "(6+2j)\n"
     ]
    }
   ],
   "source": [
    "#complex number (ax + yj)\n",
    "print(6+2j)"
   ]
  },
  {
   "cell_type": "code",
   "execution_count": 29,
   "id": "7a94cfa9",
   "metadata": {},
   "outputs": [
    {
     "name": "stdout",
     "output_type": "stream",
     "text": [
      "[1, 2, 3, 4, 5, 6]\n"
     ]
    }
   ],
   "source": [
    "#list\n",
    "print([1,2,3,4,5,6])"
   ]
  },
  {
   "cell_type": "code",
   "execution_count": 31,
   "id": "eba2a62e",
   "metadata": {},
   "outputs": [
    {
     "name": "stdout",
     "output_type": "stream",
     "text": [
      "(1, 2, 3, 4, 5, 6)\n"
     ]
    }
   ],
   "source": [
    "#tuple\n",
    "print((1,2,3,4,5,6))"
   ]
  },
  {
   "cell_type": "code",
   "execution_count": 33,
   "id": "bb08fecd",
   "metadata": {},
   "outputs": [
    {
     "name": "stdout",
     "output_type": "stream",
     "text": [
      "{1, 2, 3, 4, 5, 6}\n"
     ]
    }
   ],
   "source": [
    "#set\n",
    "print({1,2,3,4,5,6})"
   ]
  },
  {
   "cell_type": "code",
   "execution_count": 36,
   "id": "ee04bd43",
   "metadata": {},
   "outputs": [
    {
     "name": "stdout",
     "output_type": "stream",
     "text": [
      "{'name': 'nitish', 'age': 20, 'married': False, True: 'He is a boy'}\n"
     ]
    }
   ],
   "source": [
    "#dictionary\n",
    "print({'name':'nitish' , 'age' :20 ,'married' : False ,True :'He is a boy'})"
   ]
  },
  {
   "cell_type": "code",
   "execution_count": 38,
   "id": "903b279d",
   "metadata": {},
   "outputs": [
    {
     "data": {
      "text/plain": [
       "float"
      ]
     },
     "execution_count": 38,
     "metadata": {},
     "output_type": "execute_result"
    }
   ],
   "source": [
    "#type - to print data type \n",
    "type(3.4)"
   ]
  },
  {
   "cell_type": "markdown",
   "id": "eeca88d1",
   "metadata": {},
   "source": [
    "# Variables"
   ]
  },
  {
   "cell_type": "code",
   "execution_count": 39,
   "id": "9b9e66ba",
   "metadata": {},
   "outputs": [],
   "source": [
    "\n",
    "# they are containers for future use - variables.\n",
    "# static vs dynamic typing\n",
    "#static vs dynamic binding\n",
    "#stylish declaration techniques\n"
   ]
  },
  {
   "cell_type": "code",
   "execution_count": 41,
   "id": "eb5bec9b",
   "metadata": {},
   "outputs": [
    {
     "name": "stdout",
     "output_type": "stream",
     "text": [
      "nitish\n"
     ]
    }
   ],
   "source": [
    "name = 'nitish'\n",
    "print(name)"
   ]
  },
  {
   "cell_type": "code",
   "execution_count": 43,
   "id": "0d57b578",
   "metadata": {},
   "outputs": [
    {
     "name": "stdout",
     "output_type": "stream",
     "text": [
      "11\n"
     ]
    }
   ],
   "source": [
    "a = 5\n",
    "b= 6\n",
    "print(a+b)"
   ]
  },
  {
   "cell_type": "code",
   "execution_count": 46,
   "id": "55cc5a6d",
   "metadata": {},
   "outputs": [],
   "source": [
    "#dynamic typing\n",
    "a = 5\n",
    "#static typing \n",
    "#int a = 5 "
   ]
  },
  {
   "cell_type": "code",
   "execution_count": 48,
   "id": "447791c0",
   "metadata": {},
   "outputs": [
    {
     "name": "stdout",
     "output_type": "stream",
     "text": [
      "5\n",
      "nitish\n"
     ]
    }
   ],
   "source": [
    "#dynamic binding\n",
    "a = 5 \n",
    "print(a)\n",
    "a = 'nitish'\n",
    "print(a)"
   ]
  },
  {
   "cell_type": "code",
   "execution_count": 49,
   "id": "f6ad2ccc",
   "metadata": {},
   "outputs": [],
   "source": [
    "#static binding\n",
    "#int a = 5 [ C , C++ , java supports static binding and typing while PYTHON supports dynmic typing and binding]"
   ]
  },
  {
   "cell_type": "code",
   "execution_count": 51,
   "id": "beb498a1",
   "metadata": {},
   "outputs": [
    {
     "name": "stdout",
     "output_type": "stream",
     "text": [
      "1 2 3\n"
     ]
    }
   ],
   "source": [
    "a =1\n",
    "b=2\n",
    "c=3\n",
    "print (a,b,c)"
   ]
  },
  {
   "cell_type": "code",
   "execution_count": 53,
   "id": "2e20a750",
   "metadata": {},
   "outputs": [
    {
     "name": "stdout",
     "output_type": "stream",
     "text": [
      "1 2 3\n"
     ]
    }
   ],
   "source": [
    "a,b,c = 1,2,3\n",
    "print(a,b,c)"
   ]
  },
  {
   "cell_type": "code",
   "execution_count": 55,
   "id": "1a94bad4",
   "metadata": {},
   "outputs": [
    {
     "name": "stdout",
     "output_type": "stream",
     "text": [
      "5 5 5\n"
     ]
    }
   ],
   "source": [
    "a = b = c = 5\n",
    "print(a,b,c)"
   ]
  },
  {
   "cell_type": "markdown",
   "id": "0a8033c2",
   "metadata": {},
   "source": [
    "# Comments"
   ]
  },
  {
   "cell_type": "code",
   "execution_count": 58,
   "id": "659487aa",
   "metadata": {},
   "outputs": [],
   "source": [
    "# this is a single line comment\n",
    "# python supports only single line comments"
   ]
  },
  {
   "cell_type": "markdown",
   "id": "61bc8a81",
   "metadata": {},
   "source": [
    "# Keywords & Identifiers"
   ]
  },
  {
   "cell_type": "code",
   "execution_count": 59,
   "id": "485e0aaf",
   "metadata": {},
   "outputs": [],
   "source": [
    "# keywords \n",
    "# reversed words, there are 32 keywords in python "
   ]
  },
  {
   "cell_type": "code",
   "execution_count": 62,
   "id": "c3a9ce84",
   "metadata": {},
   "outputs": [
    {
     "name": "stdout",
     "output_type": "stream",
     "text": [
      "nitish\n"
     ]
    }
   ],
   "source": [
    "# Identifiers\n",
    "# name given to a variable \n",
    "# Rules - : \n",
    "# You can't start with a digit \n",
    "name1 = 'nitish'\n",
    "# use can use only _ as special chars\n",
    "_='nitish'\n",
    "print(_)\n",
    "# identifiers can not be keyword."
   ]
  },
  {
   "cell_type": "markdown",
   "id": "aaedd554",
   "metadata": {},
   "source": [
    "# User Input"
   ]
  },
  {
   "cell_type": "code",
   "execution_count": 64,
   "id": "9f7c8ae1",
   "metadata": {},
   "outputs": [],
   "source": [
    "# Static vs Dynamic \n",
    "# static - can't interact with software only"
   ]
  },
  {
   "cell_type": "code",
   "execution_count": 66,
   "id": "26dbed1d",
   "metadata": {},
   "outputs": [
    {
     "name": "stdout",
     "output_type": "stream",
     "text": [
      "harsh\n"
     ]
    },
    {
     "data": {
      "text/plain": [
       "'harsh'"
      ]
     },
     "execution_count": 66,
     "metadata": {},
     "output_type": "execute_result"
    }
   ],
   "source": [
    "input()"
   ]
  },
  {
   "cell_type": "code",
   "execution_count": 68,
   "id": "5eef1d7f",
   "metadata": {},
   "outputs": [
    {
     "name": "stdout",
     "output_type": "stream",
     "text": [
      "Enter your name ...my name is harsh\n"
     ]
    },
    {
     "data": {
      "text/plain": [
       "'my name is harsh'"
      ]
     },
     "execution_count": 68,
     "metadata": {},
     "output_type": "execute_result"
    }
   ],
   "source": [
    "input(\"Enter your name ...\")"
   ]
  },
  {
   "cell_type": "code",
   "execution_count": 70,
   "id": "5e980413",
   "metadata": {},
   "outputs": [
    {
     "name": "stdout",
     "output_type": "stream",
     "text": [
      "Enter emailharhs\n"
     ]
    },
    {
     "data": {
      "text/plain": [
       "'harhs'"
      ]
     },
     "execution_count": 70,
     "metadata": {},
     "output_type": "execute_result"
    }
   ],
   "source": [
    "input(\"Enter email\")"
   ]
  },
  {
   "cell_type": "code",
   "execution_count": 72,
   "id": "bd7ab2b3",
   "metadata": {},
   "outputs": [
    {
     "name": "stdout",
     "output_type": "stream",
     "text": [
      "Enter  first number : 45\n",
      "Enter second number : 45\n",
      "90\n"
     ]
    }
   ],
   "source": [
    "# add two integers\n",
    "\n",
    "# take integer input from user and store then in a variable\n",
    "a = int(input(\"Enter  first number : \"))\n",
    "b = int(input(\"Enter second number : \"))\n",
    "# add the variable\n",
    "sum  = a + b \n",
    "#print the sum \n",
    "print(sum)"
   ]
  },
  {
   "cell_type": "markdown",
   "id": "788708b2",
   "metadata": {},
   "source": [
    "# Type Conversion"
   ]
  },
  {
   "cell_type": "code",
   "execution_count": 75,
   "id": "1bc9cc9b",
   "metadata": {},
   "outputs": [
    {
     "name": "stdout",
     "output_type": "stream",
     "text": [
      "10.6\n",
      "<class 'int'> <class 'float'>\n"
     ]
    }
   ],
   "source": [
    "# Implicit type conversion\n",
    "print(5 + 5.6)\n",
    "print(type(5),type(5.6))"
   ]
  },
  {
   "cell_type": "code",
   "execution_count": 77,
   "id": "f363e319",
   "metadata": {},
   "outputs": [
    {
     "ename": "TypeError",
     "evalue": "unsupported operand type(s) for +: 'int' and 'str'",
     "output_type": "error",
     "traceback": [
      "\u001b[0;31m---------------------------------------------------------------------------\u001b[0m",
      "\u001b[0;31mTypeError\u001b[0m                                 Traceback (most recent call last)",
      "Cell \u001b[0;32mIn[77], line 1\u001b[0m\n\u001b[0;32m----> 1\u001b[0m \u001b[38;5;28mprint\u001b[39m(\u001b[38;5;241m4\u001b[39m \u001b[38;5;241m+\u001b[39m \u001b[38;5;124m'\u001b[39m\u001b[38;5;124m4\u001b[39m\u001b[38;5;124m'\u001b[39m)\n",
      "\u001b[0;31mTypeError\u001b[0m: unsupported operand type(s) for +: 'int' and 'str'"
     ]
    }
   ],
   "source": [
    "print(4 + '4')"
   ]
  },
  {
   "cell_type": "code",
   "execution_count": 82,
   "id": "5bc1d1a8",
   "metadata": {},
   "outputs": [
    {
     "data": {
      "text/plain": [
       "4.0"
      ]
     },
     "execution_count": 82,
     "metadata": {},
     "output_type": "execute_result"
    }
   ],
   "source": [
    "# Explicit type conversion \n",
    "# str -> int\n",
    "int('4')\n",
    "type(int('4'))\n",
    "\n",
    "\n",
    "# int -> str\n",
    "str(5)\n",
    "\n",
    "# int -> float  \n",
    "float(4)"
   ]
  },
  {
   "cell_type": "markdown",
   "id": "51d71428",
   "metadata": {},
   "source": [
    "# Literals"
   ]
  },
  {
   "cell_type": "code",
   "execution_count": 86,
   "id": "80f55c96",
   "metadata": {},
   "outputs": [],
   "source": [
    "# Integer Literals : \n",
    "a = 0b1010 # binary \n",
    "b = 100  # decimal\n",
    "c = 0o310 # octal\n",
    "d = 0x12c # hexadecimal"
   ]
  },
  {
   "cell_type": "code",
   "execution_count": 88,
   "id": "f642f840",
   "metadata": {},
   "outputs": [
    {
     "name": "stdout",
     "output_type": "stream",
     "text": [
      "10 100 200 300\n"
     ]
    }
   ],
   "source": [
    "print(a , b ,c ,d )"
   ]
  },
  {
   "cell_type": "code",
   "execution_count": 90,
   "id": "a30d7ef5",
   "metadata": {},
   "outputs": [
    {
     "name": "stdout",
     "output_type": "stream",
     "text": [
      "10.5 150.0 0.0015\n"
     ]
    }
   ],
   "source": [
    "# Float Literals :\n",
    "x = 10.5\n",
    "y = 1.5e2  # 1.5 * 10^2\n",
    "z = 1.5e-3 # 1.5 * 10^-3\n",
    "print(x,y,z)"
   ]
  },
  {
   "cell_type": "code",
   "execution_count": 95,
   "id": "e71617de",
   "metadata": {},
   "outputs": [
    {
     "name": "stdout",
     "output_type": "stream",
     "text": [
      "(4+3j) 4.0 3.0\n"
     ]
    }
   ],
   "source": [
    "# Complex Literals \n",
    "p = 4 + 3j\n",
    "print(p , p.real,p.imag)\n"
   ]
  },
  {
   "cell_type": "code",
   "execution_count": 110,
   "id": "e9cac493",
   "metadata": {},
   "outputs": [],
   "source": [
    "# String Literals\n",
    "\n",
    "str1 ='This is a String : '\n",
    "str2 = \"This is a Python String : \"\n",
    "char = \"C : \"\n",
    "multilineStr = \"\"\"This is a \n",
    "                multiline string more than one line code . : \"\"\"\n",
    "unicode = u\"\\U0001f600\\U0001F606\\U0001F923\\U0001F924 : \"\n",
    "rawStr = r\"\\raw\\n\\string : \"\n"
   ]
  },
  {
   "cell_type": "code",
   "execution_count": 112,
   "id": "4efd4d8b",
   "metadata": {},
   "outputs": [
    {
     "name": "stdout",
     "output_type": "stream",
     "text": [
      "This is a String :  This is a Python String :  C :  This is a \n",
      "                multiline string more than one line code . :  😀😆🤣🤤 :  \\raw\\n\\string : \n"
     ]
    }
   ],
   "source": [
    "print(str1,str2,char,multilineStr,unicode,rawStr)"
   ]
  },
  {
   "cell_type": "code",
   "execution_count": 114,
   "id": "c1cef3db",
   "metadata": {},
   "outputs": [
    {
     "name": "stdout",
     "output_type": "stream",
     "text": [
      "5 10\n"
     ]
    }
   ],
   "source": [
    "# Boolean\n",
    "c =True + 4  # true - > 1\n",
    "d = False + 10 # false -> 0\n",
    "print (c,d)"
   ]
  },
  {
   "cell_type": "code",
   "execution_count": 117,
   "id": "aa247706",
   "metadata": {},
   "outputs": [
    {
     "name": "stdout",
     "output_type": "stream",
     "text": [
      "None\n"
     ]
    }
   ],
   "source": [
    "# None -> Used to variable declaration\n",
    "a = None\n",
    "print(a)"
   ]
  }
 ],
 "metadata": {
  "kernelspec": {
   "display_name": "Python 3 (ipykernel)",
   "language": "python",
   "name": "python3"
  },
  "language_info": {
   "codemirror_mode": {
    "name": "ipython",
    "version": 3
   },
   "file_extension": ".py",
   "mimetype": "text/x-python",
   "name": "python",
   "nbconvert_exporter": "python",
   "pygments_lexer": "ipython3",
   "version": "3.11.4"
  }
 },
 "nbformat": 4,
 "nbformat_minor": 5
}
