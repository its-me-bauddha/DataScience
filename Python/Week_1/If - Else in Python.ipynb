{
 "cells": [
  {
   "cell_type": "code",
   "execution_count": 3,
   "id": "e65a5c75",
   "metadata": {},
   "outputs": [
    {
     "name": "stdout",
     "output_type": "stream",
     "text": [
      "Enter your email -> john123@gmail.com\n",
      "Enter your password -> 1234\n",
      "Welcome .....\n"
     ]
    }
   ],
   "source": [
    "# login program and indentation\n",
    "email = input(\"Enter your email -> \")\n",
    "password = input(\"Enter your password -> \")\n",
    "if email == \"john123@gmail.com\" and password == \"1234\":\n",
    "    print(\"Welcome .....\")\n",
    "else :\n",
    "    print(\"Invalid user ...\")"
   ]
  },
  {
   "cell_type": "code",
   "execution_count": 6,
   "id": "a52c5533",
   "metadata": {},
   "outputs": [
    {
     "name": "stdout",
     "output_type": "stream",
     "text": [
      "Enter your email -> rjr\n",
      "Enter your password -> r\n",
      "Invalid user ...\n"
     ]
    }
   ],
   "source": [
    "email = input(\"Enter your email -> \")\n",
    "password = input(\"Enter your password -> \")\n",
    "if email == \"john123@gmail.com\" and password == \"1234\":\n",
    "    print(\"Welcome .....\")\n",
    "elif email == \"john123@gmail.com\" and password != \"1234\":\n",
    "    print(\"Incorrect Password\")\n",
    "    password = input(\"Enter password again\")\n",
    "    if password == '1234':\n",
    "        print(\"Welcome Finally .....\")\n",
    "    else :\n",
    "        print(\"Try after some time....\")\n",
    "else :\n",
    "    print(\"Invalid user ...\")\n"
   ]
  },
  {
   "cell_type": "code",
   "execution_count": 10,
   "id": "77b93e64",
   "metadata": {},
   "outputs": [
    {
     "name": "stdout",
     "output_type": "stream",
     "text": [
      "First number -> 2\n",
      "Second number -> 2\n",
      "Third number -> 3\n",
      "Smallest number is a :  2\n"
     ]
    }
   ],
   "source": [
    "# min of three numbers\n",
    "a = int(input(\"First number -> \"))\n",
    "b = int(input(\"Second number -> \"))\n",
    "c = int(input(\"Third number -> \"))\n",
    "\n",
    "if a <= b and a <= c :\n",
    "    print(\"Smallest number is a : \"  ,a)\n",
    "elif b <= c :\n",
    "     print(\"Smallest number is b : \" ,b)\n",
    "else :\n",
    "     print(\"Smallest number is c : \" ,c)\n"
   ]
  },
  {
   "cell_type": "code",
   "execution_count": null,
   "id": "253178a1",
   "metadata": {},
   "outputs": [],
   "source": [
    "# menu driven calculator\n",
    "num1 = int(input(\"Enter the number\"))\n",
    "num2 = int(input(\"Enter the number\"))\n",
    "\n",
    "op = input(\"Enter the operation -> + | - | * | / |\")\n",
    "if op == '+':\n",
    "    print(num1+num2)\n",
    "elif op == '-':\n",
    "    print(num1-num2)\n",
    "elif op == '*':\n",
    "    print"
   ]
  }
 ],
 "metadata": {
  "kernelspec": {
   "display_name": "Python 3 (ipykernel)",
   "language": "python",
   "name": "python3"
  },
  "language_info": {
   "codemirror_mode": {
    "name": "ipython",
    "version": 3
   },
   "file_extension": ".py",
   "mimetype": "text/x-python",
   "name": "python",
   "nbconvert_exporter": "python",
   "pygments_lexer": "ipython3",
   "version": "3.11.4"
  }
 },
 "nbformat": 4,
 "nbformat_minor": 5
}
