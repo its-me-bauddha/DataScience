{
 "cells": [
  {
   "cell_type": "markdown",
   "id": "70f6eac6",
   "metadata": {},
   "source": [
    "# *args and **kwargs"
   ]
  },
  {
   "cell_type": "code",
   "execution_count": null,
   "id": "4c748cb4",
   "metadata": {},
   "outputs": [],
   "source": [
    "*args and **kwargs are special \n",
    "Python Keywords that are used to pass \n",
    "the variable length of argument\n",
    "to a function."
   ]
  },
  {
   "cell_type": "code",
   "execution_count": 2,
   "id": "ae0a501b",
   "metadata": {},
   "outputs": [],
   "source": [
    "# *args\n",
    "# allows us to pass a variable number of non-keyword argument to a function\n",
    "\n",
    "def multiply(*args):\n",
    "    product =1\n",
    "    \n",
    "    for i in args:\n",
    "        product = product*i\n",
    "    return product\n",
    "    "
   ]
  },
  {
   "cell_type": "code",
   "execution_count": 4,
   "id": "159ee157",
   "metadata": {},
   "outputs": [
    {
     "data": {
      "text/plain": [
       "1"
      ]
     },
     "execution_count": 4,
     "metadata": {},
     "output_type": "execute_result"
    }
   ],
   "source": [
    "multiply(1)"
   ]
  },
  {
   "cell_type": "code",
   "execution_count": 6,
   "id": "aac083df",
   "metadata": {},
   "outputs": [
    {
     "data": {
      "text/plain": [
       "2"
      ]
     },
     "execution_count": 6,
     "metadata": {},
     "output_type": "execute_result"
    }
   ],
   "source": [
    "multiply(1,2)"
   ]
  },
  {
   "cell_type": "code",
   "execution_count": 8,
   "id": "480438d1",
   "metadata": {},
   "outputs": [
    {
     "data": {
      "text/plain": [
       "6"
      ]
     },
     "execution_count": 8,
     "metadata": {},
     "output_type": "execute_result"
    }
   ],
   "source": [
    "multiply(1,2,3)"
   ]
  },
  {
   "cell_type": "code",
   "execution_count": 10,
   "id": "af018835",
   "metadata": {},
   "outputs": [
    {
     "data": {
      "text/plain": [
       "24"
      ]
     },
     "execution_count": 10,
     "metadata": {},
     "output_type": "execute_result"
    }
   ],
   "source": [
    "multiply(1,2,3,4)"
   ]
  },
  {
   "cell_type": "code",
   "execution_count": 12,
   "id": "f423957e",
   "metadata": {},
   "outputs": [
    {
     "data": {
      "text/plain": [
       "120"
      ]
     },
     "execution_count": 12,
     "metadata": {},
     "output_type": "execute_result"
    }
   ],
   "source": [
    "multiply(1,2,3,4,5)"
   ]
  },
  {
   "cell_type": "code",
   "execution_count": 14,
   "id": "9c16f667",
   "metadata": {},
   "outputs": [
    {
     "data": {
      "text/plain": [
       "362880"
      ]
     },
     "execution_count": 14,
     "metadata": {},
     "output_type": "execute_result"
    }
   ],
   "source": [
    "multiply(1,2,3,4,5,6,7,8,9)"
   ]
  },
  {
   "cell_type": "code",
   "execution_count": 18,
   "id": "38fc1caf",
   "metadata": {},
   "outputs": [],
   "source": [
    "# **kwargs\n",
    "# **kwargs allows us to pass any number of keyword arguments.\n",
    "# Keyword arguments mean that they contain a key-value pair , like a python dictionary.\n",
    "\n",
    "def display(**kwargs):\n",
    "    for(key,value) in kwargs.items():\n",
    "        print(key ,'->' ,  value)"
   ]
  },
  {
   "cell_type": "code",
   "execution_count": 19,
   "id": "6549791e",
   "metadata": {},
   "outputs": [
    {
     "name": "stdout",
     "output_type": "stream",
     "text": [
      "india -> delhi\n"
     ]
    }
   ],
   "source": [
    "display(india = 'delhi')"
   ]
  },
  {
   "cell_type": "code",
   "execution_count": 21,
   "id": "05eb1e56",
   "metadata": {},
   "outputs": [
    {
     "name": "stdout",
     "output_type": "stream",
     "text": [
      "india -> delhi\n",
      "japan -> tokyo\n",
      "enland -> london\n"
     ]
    }
   ],
   "source": [
    "display(india = 'delhi' ,japan = 'tokyo' , enland = 'london' )"
   ]
  },
  {
   "cell_type": "code",
   "execution_count": 22,
   "id": "5a871461",
   "metadata": {},
   "outputs": [],
   "source": [
    "# order of the argument matter(normal -> *args -> **kwargs)\n",
    "# the word \"args\" and \"kwargs\" are only convention , you can use any name of your choice"
   ]
  },
  {
   "cell_type": "code",
   "execution_count": null,
   "id": "da8be1f5",
   "metadata": {},
   "outputs": [],
   "source": []
  }
 ],
 "metadata": {
  "kernelspec": {
   "display_name": "Python 3 (ipykernel)",
   "language": "python",
   "name": "python3"
  },
  "language_info": {
   "codemirror_mode": {
    "name": "ipython",
    "version": 3
   },
   "file_extension": ".py",
   "mimetype": "text/x-python",
   "name": "python",
   "nbconvert_exporter": "python",
   "pygments_lexer": "ipython3",
   "version": "3.11.4"
  }
 },
 "nbformat": 4,
 "nbformat_minor": 5
}
