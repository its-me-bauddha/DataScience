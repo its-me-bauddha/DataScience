{
 "cells": [
  {
   "cell_type": "code",
   "execution_count": 1,
   "id": "e63a7b1a",
   "metadata": {},
   "outputs": [
    {
     "ename": "SyntaxError",
     "evalue": "invalid syntax (2306324165.py, line 1)",
     "output_type": "error",
     "traceback": [
      "\u001b[0;36m  Cell \u001b[0;32mIn[1], line 1\u001b[0;36m\u001b[0m\n\u001b[0;31m    A lambda function is a small anonymous function\u001b[0m\n\u001b[0m      ^\u001b[0m\n\u001b[0;31mSyntaxError\u001b[0m\u001b[0;31m:\u001b[0m invalid syntax\n"
     ]
    }
   ],
   "source": [
    "A lambda function is a small anonymous function\n",
    "A lambda function can take any number of arguments , but only have one expression."
   ]
  },
  {
   "cell_type": "code",
   "execution_count": null,
   "id": "2df4efca",
   "metadata": {},
   "outputs": [],
   "source": [
    "lambda a, b : a+b"
   ]
  },
  {
   "cell_type": "code",
   "execution_count": 3,
   "id": "23055a99",
   "metadata": {},
   "outputs": [
    {
     "data": {
      "text/plain": [
       "4"
      ]
     },
     "execution_count": 3,
     "metadata": {},
     "output_type": "execute_result"
    }
   ],
   "source": [
    "a = lambda x :x**2\n",
    "a(2)"
   ]
  },
  {
   "cell_type": "code",
   "execution_count": 5,
   "id": "dbcbd670",
   "metadata": {},
   "outputs": [
    {
     "data": {
      "text/plain": [
       "7"
      ]
     },
     "execution_count": 5,
     "metadata": {},
     "output_type": "execute_result"
    }
   ],
   "source": [
    "a = lambda x,y : x+y \n",
    "a(5,2)"
   ]
  },
  {
   "cell_type": "code",
   "execution_count": null,
   "id": "7681ffee",
   "metadata": {},
   "outputs": [],
   "source": [
    "# Difference between lambda vs Normal function\n",
    "1.No name\n",
    "2. lambda has no return value (infact returns a function)\n",
    "3. lambdais written in 1 line.\n",
    "4. not reusable\n",
    "\n",
    "# then why we use lambda functions ?\n",
    "They are used with HOF .\n"
   ]
  },
  {
   "cell_type": "code",
   "execution_count": 7,
   "id": "bafe5433",
   "metadata": {},
   "outputs": [
    {
     "data": {
      "text/plain": [
       "False"
      ]
     },
     "execution_count": 7,
     "metadata": {},
     "output_type": "execute_result"
    }
   ],
   "source": [
    "# check if a string has 'a'\n",
    "a = lambda s :'a' in s\n",
    "a('hello')"
   ]
  },
  {
   "cell_type": "code",
   "execution_count": 9,
   "id": "5623ac8a",
   "metadata": {},
   "outputs": [
    {
     "data": {
      "text/plain": [
       "'even '"
      ]
     },
     "execution_count": 9,
     "metadata": {},
     "output_type": "execute_result"
    }
   ],
   "source": [
    "a = lambda x : 'even ' if x %2 == 0 else 'odd'\n",
    "a(6)"
   ]
  },
  {
   "cell_type": "markdown",
   "id": "8ff01c0a",
   "metadata": {},
   "source": [
    "# Higher Order function"
   ]
  },
  {
   "cell_type": "code",
   "execution_count": 13,
   "id": "b3d79b7f",
   "metadata": {},
   "outputs": [],
   "source": [
    "# function that retruns a function or\n",
    "# function that takes a functions as input\n",
    "\n",
    "def square(x):\n",
    "    return x**2\n",
    "\n",
    "def transform (f,l):\n",
    "    output = []\n",
    "    for i in l:\n",
    "        output.append(f(i))\n",
    "    print(output)\n",
    "    l =[1,2,3,4,5]\n",
    "   "
   ]
  },
  {
   "cell_type": "code",
   "execution_count": 14,
   "id": "741ee7db",
   "metadata": {},
   "outputs": [
    {
     "ename": "NameError",
     "evalue": "name 'l' is not defined",
     "output_type": "error",
     "traceback": [
      "\u001b[0;31m---------------------------------------------------------------------------\u001b[0m",
      "\u001b[0;31mNameError\u001b[0m                                 Traceback (most recent call last)",
      "Cell \u001b[0;32mIn[14], line 1\u001b[0m\n\u001b[0;32m----> 1\u001b[0m transform(square,l)\n",
      "\u001b[0;31mNameError\u001b[0m: name 'l' is not defined"
     ]
    }
   ],
   "source": [
    "l =[1,2,3,4,5]\n",
    "transform(square,l)"
   ]
  }
 ],
 "metadata": {
  "kernelspec": {
   "display_name": "Python 3 (ipykernel)",
   "language": "python",
   "name": "python3"
  },
  "language_info": {
   "codemirror_mode": {
    "name": "ipython",
    "version": 3
   },
   "file_extension": ".py",
   "mimetype": "text/x-python",
   "name": "python",
   "nbconvert_exporter": "python",
   "pygments_lexer": "ipython3",
   "version": "3.11.4"
  }
 },
 "nbformat": 4,
 "nbformat_minor": 5
}
