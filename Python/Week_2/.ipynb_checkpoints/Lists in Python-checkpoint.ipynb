{
 "cells": [
  {
   "cell_type": "raw",
   "id": "be962f1a",
   "metadata": {},
   "source": [
    "# List is a data type where you can store multiple items\n",
    "  under 1 name. \n",
    "More technically , lists act like dynamic arrays which means you can add more items on the fly\n",
    "\n",
    "l = [20,'harsh',35.54,[30,40,True]]\n",
    "\n",
    "\n",
    "# why lists are required in programming ? \n",
    "\n"
   ]
  },
  {
   "cell_type": "raw",
   "id": "8a6ba4a0",
   "metadata": {},
   "source": [
    "# Array vs Lists :\n",
    "\n",
    "  Advantages of list:\n",
    "    * Fixed vs Dynamic Size.\n",
    "    * Convinience -> Hetrogeneous.\n",
    "    \n",
    "  Disadvantages of list :\n",
    "    * Speed of Execution is slow.\n",
    "    * Memory required more than arrays."
   ]
  },
  {
   "cell_type": "raw",
   "id": "1a79c624",
   "metadata": {},
   "source": [
    "# How lists are stored in memory  ? \n",
    "    lists are stored pinter of the variable called as referencial array .\n",
    "    - id : represents the memory address of the variable\n",
    "            print(id(1))\n",
    "            \n",
    "     "
   ]
  },
  {
   "cell_type": "code",
   "execution_count": 2,
   "id": "774870cb",
   "metadata": {},
   "outputs": [
    {
     "name": "stdout",
     "output_type": "stream",
     "text": [
      "4375094176\n"
     ]
    }
   ],
   "source": [
    "print(id(1))"
   ]
  },
  {
   "cell_type": "code",
   "execution_count": 8,
   "id": "a3721c78",
   "metadata": {},
   "outputs": [],
   "source": [
    "l = [2,3,4]"
   ]
  },
  {
   "cell_type": "code",
   "execution_count": 9,
   "id": "464c7520",
   "metadata": {},
   "outputs": [
    {
     "name": "stdout",
     "output_type": "stream",
     "text": [
      "4375094208\n"
     ]
    }
   ],
   "source": [
    "print(id(l[0]))"
   ]
  },
  {
   "cell_type": "code",
   "execution_count": 13,
   "id": "d9d1070c",
   "metadata": {},
   "outputs": [
    {
     "name": "stdout",
     "output_type": "stream",
     "text": [
      "<built-in function id>\n"
     ]
    }
   ],
   "source": [
    "print(id)"
   ]
  },
  {
   "cell_type": "raw",
   "id": "6984768c",
   "metadata": {},
   "source": [
    "# Characterstics of a List\n",
    "    \n",
    "    * Ordered \n",
    "    * Changeble /Mutable\n",
    "    * Hetrogeneous \n",
    "    * Can have duplicates\n",
    "    * Are Dynamic\n",
    "    * Can be nested\n",
    "    * Items can be nested\n",
    "    * Can contain any kind of objects in python."
   ]
  }
 ],
 "metadata": {
  "kernelspec": {
   "display_name": "Python 3 (ipykernel)",
   "language": "python",
   "name": "python3"
  },
  "language_info": {
   "codemirror_mode": {
    "name": "ipython",
    "version": 3
   },
   "file_extension": ".py",
   "mimetype": "text/x-python",
   "name": "python",
   "nbconvert_exporter": "python",
   "pygments_lexer": "ipython3",
   "version": "3.11.4"
  }
 },
 "nbformat": 4,
 "nbformat_minor": 5
}
