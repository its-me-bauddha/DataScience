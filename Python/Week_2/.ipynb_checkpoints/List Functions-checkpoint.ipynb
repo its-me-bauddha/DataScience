{
 "cells": [
  {
   "cell_type": "raw",
   "id": "2c0162a4",
   "metadata": {},
   "source": [
    "# len/min/max/sorted  -> common functioncs"
   ]
  },
  {
   "cell_type": "code",
   "execution_count": 2,
   "id": "04622d4c",
   "metadata": {},
   "outputs": [],
   "source": [
    "l = [2,1,5,4,7,0]"
   ]
  },
  {
   "cell_type": "code",
   "execution_count": 4,
   "id": "0164b2e9",
   "metadata": {},
   "outputs": [
    {
     "data": {
      "text/plain": [
       "0"
      ]
     },
     "execution_count": 4,
     "metadata": {},
     "output_type": "execute_result"
    }
   ],
   "source": [
    "min(l)"
   ]
  },
  {
   "cell_type": "code",
   "execution_count": 6,
   "id": "eb7ce2bc",
   "metadata": {},
   "outputs": [
    {
     "data": {
      "text/plain": [
       "7"
      ]
     },
     "execution_count": 6,
     "metadata": {},
     "output_type": "execute_result"
    }
   ],
   "source": [
    "max(l)"
   ]
  },
  {
   "cell_type": "code",
   "execution_count": 8,
   "id": "18ad90fb",
   "metadata": {},
   "outputs": [
    {
     "data": {
      "text/plain": [
       "6"
      ]
     },
     "execution_count": 8,
     "metadata": {},
     "output_type": "execute_result"
    }
   ],
   "source": [
    "len(l)"
   ]
  },
  {
   "cell_type": "code",
   "execution_count": 11,
   "id": "ec84e365",
   "metadata": {},
   "outputs": [
    {
     "data": {
      "text/plain": [
       "[0, 1, 2, 4, 5, 7]"
      ]
     },
     "execution_count": 11,
     "metadata": {},
     "output_type": "execute_result"
    }
   ],
   "source": [
    "sorted(l)"
   ]
  },
  {
   "cell_type": "code",
   "execution_count": 13,
   "id": "9cb27e01",
   "metadata": {},
   "outputs": [
    {
     "data": {
      "text/plain": [
       "[7, 5, 4, 2, 1, 0]"
      ]
     },
     "execution_count": 13,
     "metadata": {},
     "output_type": "execute_result"
    }
   ],
   "source": [
    "sorted(l,reverse = True)"
   ]
  },
  {
   "cell_type": "code",
   "execution_count": 16,
   "id": "e038f888",
   "metadata": {},
   "outputs": [],
   "source": [
    "l = [1,3,3,4,3,2,4,4,3,2,4,3,5,6,4]"
   ]
  },
  {
   "cell_type": "code",
   "execution_count": 18,
   "id": "ed09798e",
   "metadata": {},
   "outputs": [
    {
     "data": {
      "text/plain": [
       "1"
      ]
     },
     "execution_count": 18,
     "metadata": {},
     "output_type": "execute_result"
    }
   ],
   "source": [
    "# count \n",
    "l.count(1)"
   ]
  },
  {
   "cell_type": "code",
   "execution_count": 20,
   "id": "e750e2dd",
   "metadata": {},
   "outputs": [
    {
     "data": {
      "text/plain": [
       "5"
      ]
     },
     "execution_count": 20,
     "metadata": {},
     "output_type": "execute_result"
    }
   ],
   "source": [
    "l.count(3)"
   ]
  },
  {
   "cell_type": "code",
   "execution_count": 22,
   "id": "cc364bcb",
   "metadata": {},
   "outputs": [
    {
     "data": {
      "text/plain": [
       "5"
      ]
     },
     "execution_count": 22,
     "metadata": {},
     "output_type": "execute_result"
    }
   ],
   "source": [
    "l.count(4)"
   ]
  },
  {
   "cell_type": "code",
   "execution_count": 24,
   "id": "41927781",
   "metadata": {},
   "outputs": [
    {
     "data": {
      "text/plain": [
       "0"
      ]
     },
     "execution_count": 24,
     "metadata": {},
     "output_type": "execute_result"
    }
   ],
   "source": [
    "l.count(9)"
   ]
  },
  {
   "cell_type": "code",
   "execution_count": 26,
   "id": "67b04027",
   "metadata": {},
   "outputs": [
    {
     "data": {
      "text/plain": [
       "2"
      ]
     },
     "execution_count": 26,
     "metadata": {},
     "output_type": "execute_result"
    }
   ],
   "source": [
    "l.count(2)"
   ]
  },
  {
   "cell_type": "code",
   "execution_count": 28,
   "id": "ab363ff5",
   "metadata": {},
   "outputs": [
    {
     "data": {
      "text/plain": [
       "0"
      ]
     },
     "execution_count": 28,
     "metadata": {},
     "output_type": "execute_result"
    }
   ],
   "source": [
    "# index \n",
    "l.index(1)"
   ]
  },
  {
   "cell_type": "code",
   "execution_count": 30,
   "id": "b7253bfc",
   "metadata": {},
   "outputs": [
    {
     "data": {
      "text/plain": [
       "3"
      ]
     },
     "execution_count": 30,
     "metadata": {},
     "output_type": "execute_result"
    }
   ],
   "source": [
    "l.index(4)"
   ]
  },
  {
   "cell_type": "code",
   "execution_count": 36,
   "id": "f941f97f",
   "metadata": {},
   "outputs": [
    {
     "ename": "ValueError",
     "evalue": "9 is not in list",
     "output_type": "error",
     "traceback": [
      "\u001b[0;31m---------------------------------------------------------------------------\u001b[0m",
      "\u001b[0;31mValueError\u001b[0m                                Traceback (most recent call last)",
      "Cell \u001b[0;32mIn[36], line 1\u001b[0m\n\u001b[0;32m----> 1\u001b[0m l\u001b[38;5;241m.\u001b[39mindex(\u001b[38;5;241m9\u001b[39m)\n",
      "\u001b[0;31mValueError\u001b[0m: 9 is not in list"
     ]
    }
   ],
   "source": [
    "l.index(9)"
   ]
  },
  {
   "cell_type": "code",
   "execution_count": 37,
   "id": "8dff025f",
   "metadata": {},
   "outputs": [],
   "source": [
    "li = [1,2,4,3,5]"
   ]
  },
  {
   "cell_type": "code",
   "execution_count": 38,
   "id": "699c2d75",
   "metadata": {},
   "outputs": [],
   "source": [
    "# reverse \n",
    "li.reverse() # permanent reverse the list  "
   ]
  },
  {
   "cell_type": "code",
   "execution_count": 40,
   "id": "8a664ffb",
   "metadata": {},
   "outputs": [
    {
     "data": {
      "text/plain": [
       "[5, 3, 4, 2, 1]"
      ]
     },
     "execution_count": 40,
     "metadata": {},
     "output_type": "execute_result"
    }
   ],
   "source": [
    "li"
   ]
  },
  {
   "cell_type": "code",
   "execution_count": 43,
   "id": "08a02e46",
   "metadata": {},
   "outputs": [],
   "source": [
    "# sort  -> permanent sort the list \n",
    "li = [1,2,4,3,5]\n",
    "li.sort()"
   ]
  },
  {
   "cell_type": "code",
   "execution_count": 46,
   "id": "d1950ed8",
   "metadata": {},
   "outputs": [
    {
     "data": {
      "text/plain": [
       "[1, 2, 3, 4, 5]"
      ]
     },
     "execution_count": 46,
     "metadata": {},
     "output_type": "execute_result"
    }
   ],
   "source": [
    "li"
   ]
  },
  {
   "cell_type": "code",
   "execution_count": 48,
   "id": "908b8e8f",
   "metadata": {},
   "outputs": [],
   "source": [
    "li = [2,3,4]"
   ]
  },
  {
   "cell_type": "code",
   "execution_count": 52,
   "id": "3c5fb75d",
   "metadata": {},
   "outputs": [
    {
     "data": {
      "text/plain": [
       "[2, 3, 4]"
      ]
     },
     "execution_count": 52,
     "metadata": {},
     "output_type": "execute_result"
    }
   ],
   "source": [
    "l1 = li.copy()\n",
    "l1"
   ]
  },
  {
   "cell_type": "code",
   "execution_count": 53,
   "id": "f23e8f1d",
   "metadata": {},
   "outputs": [
    {
     "name": "stdout",
     "output_type": "stream",
     "text": [
      "4625884416\n",
      "4625873792\n"
     ]
    }
   ],
   "source": [
    "print(id(li))\n",
    "print(id(l1))"
   ]
  }
 ],
 "metadata": {
  "kernelspec": {
   "display_name": "Python 3 (ipykernel)",
   "language": "python",
   "name": "python3"
  },
  "language_info": {
   "codemirror_mode": {
    "name": "ipython",
    "version": 3
   },
   "file_extension": ".py",
   "mimetype": "text/x-python",
   "name": "python",
   "nbconvert_exporter": "python",
   "pygments_lexer": "ipython3",
   "version": "3.11.4"
  }
 },
 "nbformat": 4,
 "nbformat_minor": 5
}
