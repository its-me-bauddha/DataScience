{
 "cells": [
  {
   "cell_type": "code",
   "execution_count": 3,
   "id": "00bb47e1",
   "metadata": {},
   "outputs": [
    {
     "data": {
      "text/plain": [
       "4581057824"
      ]
     },
     "execution_count": 3,
     "metadata": {},
     "output_type": "execute_result"
    }
   ],
   "source": [
    "# type and id\n",
    "def square(num):\n",
    "    return num**2\n",
    "\n",
    "\n",
    "a = 2\n",
    "id(square)"
   ]
  },
  {
   "cell_type": "code",
   "execution_count": 5,
   "id": "dc1709b3",
   "metadata": {},
   "outputs": [
    {
     "data": {
      "text/plain": [
       "function"
      ]
     },
     "execution_count": 5,
     "metadata": {},
     "output_type": "execute_result"
    }
   ],
   "source": [
    "type(square)"
   ]
  },
  {
   "cell_type": "code",
   "execution_count": 13,
   "id": "37f98b92",
   "metadata": {},
   "outputs": [],
   "source": [
    "x = square\n"
   ]
  },
  {
   "cell_type": "code",
   "execution_count": 15,
   "id": "cc1d0f40",
   "metadata": {},
   "outputs": [
    {
     "data": {
      "text/plain": [
       "16"
      ]
     },
     "execution_count": 15,
     "metadata": {},
     "output_type": "execute_result"
    }
   ],
   "source": [
    "x(4)"
   ]
  },
  {
   "cell_type": "code",
   "execution_count": 17,
   "id": "2792e76b",
   "metadata": {},
   "outputs": [
    {
     "ename": "NameError",
     "evalue": "name 'square' is not defined",
     "output_type": "error",
     "traceback": [
      "\u001b[0;31m---------------------------------------------------------------------------\u001b[0m",
      "\u001b[0;31mNameError\u001b[0m                                 Traceback (most recent call last)",
      "Cell \u001b[0;32mIn[17], line 1\u001b[0m\n\u001b[0;32m----> 1\u001b[0m \u001b[38;5;28;01mdel\u001b[39;00m square\n",
      "\u001b[0;31mNameError\u001b[0m: name 'square' is not defined"
     ]
    }
   ],
   "source": [
    "del square # deleting the function\n"
   ]
  },
  {
   "cell_type": "code",
   "execution_count": 19,
   "id": "39f30b3c",
   "metadata": {},
   "outputs": [
    {
     "data": {
      "text/plain": [
       "4583873472"
      ]
     },
     "execution_count": 19,
     "metadata": {},
     "output_type": "execute_result"
    }
   ],
   "source": [
    "def square(num):\n",
    "    return num**2\n",
    "\n",
    "\n",
    "a = 2\n",
    "id(square)"
   ]
  },
  {
   "cell_type": "code",
   "execution_count": 21,
   "id": "4e4736b0",
   "metadata": {},
   "outputs": [
    {
     "data": {
      "text/plain": [
       "[1, 2, 3, 4, <function __main__.square(num)>]"
      ]
     },
     "execution_count": 21,
     "metadata": {},
     "output_type": "execute_result"
    }
   ],
   "source": [
    "# storing \n",
    "L = [1,2,3,4,square]\n",
    "L "
   ]
  },
  {
   "cell_type": "code",
   "execution_count": 23,
   "id": "dc873fee",
   "metadata": {},
   "outputs": [
    {
     "data": {
      "text/plain": [
       "9"
      ]
     },
     "execution_count": 23,
     "metadata": {},
     "output_type": "execute_result"
    }
   ],
   "source": [
    "L [-1](3)"
   ]
  },
  {
   "cell_type": "code",
   "execution_count": 25,
   "id": "85079dc3",
   "metadata": {},
   "outputs": [
    {
     "data": {
      "text/plain": [
       "{<function __main__.square(num)>}"
      ]
     },
     "execution_count": 25,
     "metadata": {},
     "output_type": "execute_result"
    }
   ],
   "source": [
    "# returning a functions \n",
    "s = {square}\n",
    "s"
   ]
  },
  {
   "cell_type": "code",
   "execution_count": 27,
   "id": "8e08154a",
   "metadata": {},
   "outputs": [
    {
     "name": "stdout",
     "output_type": "stream",
     "text": [
      "7\n"
     ]
    }
   ],
   "source": [
    "def f():\n",
    "    def x(a,b): \n",
    "        return a+b\n",
    "    return x\n",
    "\n",
    "val = f()(3,4)\n",
    "print (val)"
   ]
  },
  {
   "cell_type": "code",
   "execution_count": null,
   "id": "f9496e65",
   "metadata": {},
   "outputs": [],
   "source": [
    "Benefits of using a function\n",
    "1.Code Modularity\n",
    "2.Code Readibility\n",
    "3.Code Reusability"
   ]
  }
 ],
 "metadata": {
  "kernelspec": {
   "display_name": "Python 3 (ipykernel)",
   "language": "python",
   "name": "python3"
  },
  "language_info": {
   "codemirror_mode": {
    "name": "ipython",
    "version": 3
   },
   "file_extension": ".py",
   "mimetype": "text/x-python",
   "name": "python",
   "nbconvert_exporter": "python",
   "pygments_lexer": "ipython3",
   "version": "3.11.4"
  }
 },
 "nbformat": 4,
 "nbformat_minor": 5
}
