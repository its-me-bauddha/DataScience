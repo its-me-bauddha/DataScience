{
 "cells": [
  {
   "cell_type": "markdown",
   "id": "14d1c0a1",
   "metadata": {},
   "source": [
    "# List Comprehension"
   ]
  },
  {
   "cell_type": "raw",
   "id": "232eaedc",
   "metadata": {},
   "source": [
    "List Comprehension provides a concise way of creating lists"
   ]
  },
  {
   "cell_type": "code",
   "execution_count": null,
   "id": "ae1e3831",
   "metadata": {},
   "outputs": [],
   "source": [
    " newlist = [expression for item in iterable if condition == True]"
   ]
  },
  {
   "cell_type": "code",
   "execution_count": null,
   "id": "4e43e14f",
   "metadata": {},
   "outputs": [],
   "source": [
    "Advantages of List Comprehension \n",
    " - More time-efficient and space efficient than loops.\n",
    " - Require fewer lines of code.\n",
    " - Transforms iterative statement into a formula."
   ]
  },
  {
   "cell_type": "code",
   "execution_count": 3,
   "id": "34995325",
   "metadata": {},
   "outputs": [
    {
     "name": "stdout",
     "output_type": "stream",
     "text": [
      "[1, 2, 3, 4, 5, 6, 7, 8, 9, 10]\n"
     ]
    }
   ],
   "source": [
    "# add 1 to 10 numbers to a list \n",
    "  \n",
    "    # using loop\n",
    "l=[]\n",
    "for i in range(1,11):\n",
    "    l.append(i)\n",
    "print(l)"
   ]
  },
  {
   "cell_type": "code",
   "execution_count": 5,
   "id": "8715a02e",
   "metadata": {},
   "outputs": [
    {
     "name": "stdout",
     "output_type": "stream",
     "text": [
      "[1, 2, 3, 4, 5, 6, 7, 8, 9, 10]\n"
     ]
    }
   ],
   "source": [
    "# List Comprehension\n",
    "l = [i for i in range (1,11)]\n",
    "print(l)"
   ]
  },
  {
   "cell_type": "code",
   "execution_count": 8,
   "id": "1c68b02a",
   "metadata": {},
   "outputs": [
    {
     "data": {
      "text/plain": [
       "[-6, -9, -12]"
      ]
     },
     "execution_count": 8,
     "metadata": {},
     "output_type": "execute_result"
    }
   ],
   "source": [
    "# scaler  multiplication on a vector\n",
    "v = [2,3,4]\n",
    "s = -3\n",
    "[s*i for i in v]\n"
   ]
  },
  {
   "cell_type": "code",
   "execution_count": 10,
   "id": "893c5181",
   "metadata": {},
   "outputs": [
    {
     "data": {
      "text/plain": [
       "[1, 4, 9, 16, 25]"
      ]
     },
     "execution_count": 10,
     "metadata": {},
     "output_type": "execute_result"
    }
   ],
   "source": [
    "# add square \n",
    "l =[1,2,3,4,5]\n",
    "[i**2 for i in l]"
   ]
  },
  {
   "cell_type": "code",
   "execution_count": 12,
   "id": "cda0177e",
   "metadata": {},
   "outputs": [
    {
     "data": {
      "text/plain": [
       "[5, 10, 15, 20, 25, 30, 35, 40, 45, 50]"
      ]
     },
     "execution_count": 12,
     "metadata": {},
     "output_type": "execute_result"
    }
   ],
   "source": [
    "# print all numbers divisible by 5 in the range of 1 to 50\n",
    "\n",
    "[i for i in range(1,51) if i%5==0]"
   ]
  },
  {
   "cell_type": "code",
   "execution_count": 16,
   "id": "9730d7cf",
   "metadata": {},
   "outputs": [
    {
     "data": {
      "text/plain": [
       "['python', 'php']"
      ]
     },
     "execution_count": 16,
     "metadata": {},
     "output_type": "execute_result"
    }
   ],
   "source": [
    "# find languages which starts with letter p\n",
    "languages = ['java','python','javascript','php','c']\n",
    "[language for language in languages if language.startswith('p')]"
   ]
  },
  {
   "cell_type": "code",
   "execution_count": 18,
   "id": "8bb81d44",
   "metadata": {},
   "outputs": [
    {
     "data": {
      "text/plain": [
       "['apple']"
      ]
     },
     "execution_count": 18,
     "metadata": {},
     "output_type": "execute_result"
    }
   ],
   "source": [
    "# nested if\n",
    "basket = ['apple','mango','orange','banana']\n",
    "my_fruits = ['lichi' ,'papaya','kiwi','grapes','apple','aple']\n",
    "[fruit for fruit in my_fruits if fruit in basket if fruit.startswith('a')]"
   ]
  },
  {
   "cell_type": "code",
   "execution_count": 20,
   "id": "47f889df",
   "metadata": {},
   "outputs": [
    {
     "data": {
      "text/plain": [
       "[[1, 2, 3], [2, 4, 6], [3, 6, 9]]"
      ]
     },
     "execution_count": 20,
     "metadata": {},
     "output_type": "execute_result"
    }
   ],
   "source": [
    "# 3*3 matrix\n",
    "[[i*j for i in range (1,4)] for j in range(1,4)]"
   ]
  },
  {
   "cell_type": "code",
   "execution_count": 22,
   "id": "1f9d29a9",
   "metadata": {},
   "outputs": [
    {
     "data": {
      "text/plain": [
       "[5, 6, 7, 8, 10, 12, 14, 16, 15, 18, 21, 24, 20, 24, 28, 32]"
      ]
     },
     "execution_count": 22,
     "metadata": {},
     "output_type": "execute_result"
    }
   ],
   "source": [
    "# cartesian product\n",
    "l1 = [1,2,3,4]\n",
    "l2=[5,6,7,8]\n",
    "[i*j for i in l1 for j in l2]"
   ]
  },
  {
   "cell_type": "code",
   "execution_count": null,
   "id": "4c65fd80",
   "metadata": {},
   "outputs": [],
   "source": [
    "## Two ways to  traverse a list\n",
    "1. itemwise\n",
    "2. indexwise"
   ]
  },
  {
   "cell_type": "code",
   "execution_count": 24,
   "id": "65d60299",
   "metadata": {},
   "outputs": [
    {
     "name": "stdout",
     "output_type": "stream",
     "text": [
      "1\n",
      "2\n",
      "3\n",
      "4\n"
     ]
    }
   ],
   "source": [
    "# itemwise\n",
    "l=[1,2,3,4]\n",
    "for i in l:\n",
    "    print(i)"
   ]
  },
  {
   "cell_type": "code",
   "execution_count": 29,
   "id": "3480466b",
   "metadata": {},
   "outputs": [
    {
     "name": "stdout",
     "output_type": "stream",
     "text": [
      "0\n",
      "1\n",
      "2\n",
      "3\n"
     ]
    }
   ],
   "source": [
    "# indexwise\n",
    "l=[1,2,3,4]\n",
    "for i in range(0,len(l)):\n",
    "    print(i) # index\n"
   ]
  },
  {
   "cell_type": "code",
   "execution_count": 33,
   "id": "58cb24ba",
   "metadata": {},
   "outputs": [
    {
     "name": "stdout",
     "output_type": "stream",
     "text": [
      "1\n",
      "2\n",
      "3\n",
      "4\n"
     ]
    }
   ],
   "source": [
    "l=[1,2,3,4]\n",
    "for i in range(0,len(l)):\n",
    "    print(l[i]) # items\n"
   ]
  },
  {
   "cell_type": "markdown",
   "id": "355dbefe",
   "metadata": {},
   "source": [
    "## Zip Function\n"
   ]
  },
  {
   "cell_type": "raw",
   "id": "3672abc1",
   "metadata": {},
   "source": [
    "The zip() function return a zip object , which is an iterator of tuples \n",
    "where the first item in each passed iterator is  paired together and then \n",
    "the second item in each passed iterator are paired together.\n",
    "\n",
    "If the passed iterator have different lengths , the iterator with the least\n",
    "items decides the length of the new iterator"
   ]
  },
  {
   "cell_type": "code",
   "execution_count": 35,
   "id": "a6f96c4b",
   "metadata": {},
   "outputs": [
    {
     "data": {
      "text/plain": [
       "[(1, -1), (2, -2), (3, -3), (4, -4)]"
      ]
     },
     "execution_count": 35,
     "metadata": {},
     "output_type": "execute_result"
    }
   ],
   "source": [
    "# Write a program to add items of 2 lists indexwise\n",
    "l1= [1,2,3,4]\n",
    "l2=[-1,-2,-3,-4]\n",
    "\n",
    "list(zip(l1,l2))"
   ]
  },
  {
   "cell_type": "code",
   "execution_count": 39,
   "id": "d8a41745",
   "metadata": {},
   "outputs": [],
   "source": [
    "l1= [1,2,3,4]\n",
    "l2=[-1,-2,-3,-4]"
   ]
  },
  {
   "cell_type": "code",
   "execution_count": 40,
   "id": "00430669",
   "metadata": {},
   "outputs": [
    {
     "data": {
      "text/plain": [
       "[0, 0, 0, 0]"
      ]
     },
     "execution_count": 40,
     "metadata": {},
     "output_type": "execute_result"
    }
   ],
   "source": [
    "[i+j for i,j in zip(l1,l2)]"
   ]
  },
  {
   "cell_type": "code",
   "execution_count": 42,
   "id": "3559f91f",
   "metadata": {},
   "outputs": [],
   "source": [
    "l = [1,2,print,type,input]"
   ]
  },
  {
   "cell_type": "code",
   "execution_count": 44,
   "id": "ddc4190c",
   "metadata": {},
   "outputs": [
    {
     "data": {
      "text/plain": [
       "[1,\n",
       " 2,\n",
       " <function print(*args, sep=' ', end='\\n', file=None, flush=False)>,\n",
       " type,\n",
       " <bound method Kernel.raw_input of <ipykernel.ipkernel.IPythonKernel object at 0x1068388d0>>]"
      ]
     },
     "execution_count": 44,
     "metadata": {},
     "output_type": "execute_result"
    }
   ],
   "source": [
    "l"
   ]
  },
  {
   "cell_type": "markdown",
   "id": "85177905",
   "metadata": {},
   "source": [
    "### Disadvantages of Python List"
   ]
  },
  {
   "cell_type": "code",
   "execution_count": null,
   "id": "424963d8",
   "metadata": {},
   "outputs": [],
   "source": [
    "* Slow\n",
    "* Risky usages\n",
    "* Eats up more memory"
   ]
  },
  {
   "cell_type": "code",
   "execution_count": 48,
   "id": "10cafc38",
   "metadata": {},
   "outputs": [
    {
     "name": "stdout",
     "output_type": "stream",
     "text": [
      "[1, 2, 3]\n",
      "[1, 2, 3]\n",
      "[1, 2, 3, 4]\n",
      "[1, 2, 3, 4]\n"
     ]
    }
   ],
   "source": [
    "# Risky usages Example'\n",
    "a =[1,2,3]\n",
    "b = a \n",
    "print(a)\n",
    "print(b)\n",
    "\n",
    "a.append(4)\n",
    "\n",
    "print(a)\n",
    "print(b)\n",
    " \n",
    "# changes occurs due to lists are mutable:"
   ]
  },
  {
   "cell_type": "code",
   "execution_count": 49,
   "id": "0325638f",
   "metadata": {},
   "outputs": [
    {
     "name": "stdout",
     "output_type": "stream",
     "text": [
      "[1, 2, 3]\n",
      "[1, 2, 3]\n",
      "[1, 2, 3, 4]\n",
      "[1, 2, 3]\n"
     ]
    }
   ],
   "source": [
    "# solution\n",
    "a =[1,2,3]\n",
    "b = a.copy() \n",
    "print(a)\n",
    "print(b)\n",
    "\n",
    "a.append(4)\n",
    "\n",
    "print(a)\n",
    "print(b)"
   ]
  }
 ],
 "metadata": {
  "kernelspec": {
   "display_name": "Python 3 (ipykernel)",
   "language": "python",
   "name": "python3"
  },
  "language_info": {
   "codemirror_mode": {
    "name": "ipython",
    "version": 3
   },
   "file_extension": ".py",
   "mimetype": "text/x-python",
   "name": "python",
   "nbconvert_exporter": "python",
   "pygments_lexer": "ipython3",
   "version": "3.11.4"
  }
 },
 "nbformat": 4,
 "nbformat_minor": 5
}
