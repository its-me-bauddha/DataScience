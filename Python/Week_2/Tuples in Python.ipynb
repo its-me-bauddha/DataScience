{
 "cells": [
  {
   "cell_type": "markdown",
   "id": "4e4239c2",
   "metadata": {},
   "source": [
    "# Tuples"
   ]
  },
  {
   "cell_type": "raw",
   "id": "fc6793f6",
   "metadata": {},
   "source": [
    "A tuple in Python is similar to a list.\n",
    "The difference between the two is that we cannot change the elements of a tuple\n",
    "once it is assigned whereas we can change the elements of a list.\n",
    "\n",
    "In short , A tuple is an immutable list.\n",
    "A tuple can not be changed in any way once it is created."
   ]
  },
  {
   "cell_type": "raw",
   "id": "61f5b6d2",
   "metadata": {},
   "source": [
    " Characteristics :\n",
    " \n",
    " * Ordered\n",
    " * Unchangeble\n",
    " * Allows duplicate"
   ]
  },
  {
   "cell_type": "code",
   "execution_count": 1,
   "id": "113179e1",
   "metadata": {},
   "outputs": [],
   "source": [
    "# creating tuples \n",
    "\n"
   ]
  },
  {
   "cell_type": "code",
   "execution_count": 3,
   "id": "b5bac0ed",
   "metadata": {},
   "outputs": [
    {
     "data": {
      "text/plain": [
       "()"
      ]
     },
     "execution_count": 3,
     "metadata": {},
     "output_type": "execute_result"
    }
   ],
   "source": [
    "# empty \n",
    "t = ()\n",
    "t"
   ]
  },
  {
   "cell_type": "code",
   "execution_count": 6,
   "id": "1d3e34a1",
   "metadata": {},
   "outputs": [
    {
     "name": "stdout",
     "output_type": "stream",
     "text": [
      "2\n",
      "<class 'int'>\n"
     ]
    }
   ],
   "source": [
    "# single item tuple\n",
    "t1 = (2)\n",
    "print(t1)\n",
    "print(type(t1))"
   ]
  },
  {
   "cell_type": "code",
   "execution_count": 8,
   "id": "ca7dd16d",
   "metadata": {},
   "outputs": [
    {
     "name": "stdout",
     "output_type": "stream",
     "text": [
      "('hello',)\n"
     ]
    }
   ],
   "source": [
    "t2 = ('hello',) # use comma , to make a single tuple\n",
    "print(t2)"
   ]
  },
  {
   "cell_type": "code",
   "execution_count": 10,
   "id": "f21142ce",
   "metadata": {},
   "outputs": [
    {
     "data": {
      "text/plain": [
       "(1, 2, 3, 4)"
      ]
     },
     "execution_count": 10,
     "metadata": {},
     "output_type": "execute_result"
    }
   ],
   "source": [
    "t3 = (1,2,3,4) # homogeneous tuple\n",
    "t3"
   ]
  },
  {
   "cell_type": "code",
   "execution_count": 12,
   "id": "dc08d89e",
   "metadata": {},
   "outputs": [
    {
     "data": {
      "text/plain": [
       "(1, 2, 3.4, True, 'hello')"
      ]
     },
     "execution_count": 12,
     "metadata": {},
     "output_type": "execute_result"
    }
   ],
   "source": [
    "t4 = (1,2,3.4,True,'hello') # hetrogeneous tuple\n",
    "t4"
   ]
  },
  {
   "cell_type": "code",
   "execution_count": 19,
   "id": "af693795",
   "metadata": {},
   "outputs": [
    {
     "data": {
      "text/plain": [
       "(1, 2, 3, (4, 5))"
      ]
     },
     "execution_count": 19,
     "metadata": {},
     "output_type": "execute_result"
    }
   ],
   "source": [
    "t5 = (1,2,3,(4,5)) # 2d tuple\n",
    "t5"
   ]
  },
  {
   "cell_type": "code",
   "execution_count": 20,
   "id": "db48a6c8",
   "metadata": {},
   "outputs": [
    {
     "data": {
      "text/plain": [
       "('h', 'e', 'l', 'l', 'o')"
      ]
     },
     "execution_count": 20,
     "metadata": {},
     "output_type": "execute_result"
    }
   ],
   "source": [
    "t6 = tuple('hello') # type conversion \n",
    "t6"
   ]
  },
  {
   "cell_type": "code",
   "execution_count": null,
   "id": "e72b3ddc",
   "metadata": {},
   "outputs": [],
   "source": [
    "# accessing elements in a tuple\n",
    "1.indexing\n",
    "2.slicing"
   ]
  },
  {
   "cell_type": "code",
   "execution_count": 22,
   "id": "63903ea2",
   "metadata": {},
   "outputs": [],
   "source": [
    "t = (1,2,3,4,5)"
   ]
  },
  {
   "cell_type": "code",
   "execution_count": 24,
   "id": "fa109117",
   "metadata": {},
   "outputs": [
    {
     "data": {
      "text/plain": [
       "1"
      ]
     },
     "execution_count": 24,
     "metadata": {},
     "output_type": "execute_result"
    }
   ],
   "source": [
    "t[0]"
   ]
  },
  {
   "cell_type": "code",
   "execution_count": 34,
   "id": "59ce9205",
   "metadata": {},
   "outputs": [
    {
     "data": {
      "text/plain": [
       "3"
      ]
     },
     "execution_count": 34,
     "metadata": {},
     "output_type": "execute_result"
    }
   ],
   "source": [
    "t[2]"
   ]
  },
  {
   "cell_type": "code",
   "execution_count": 35,
   "id": "423f184b",
   "metadata": {},
   "outputs": [
    {
     "data": {
      "text/plain": [
       "3"
      ]
     },
     "execution_count": 35,
     "metadata": {},
     "output_type": "execute_result"
    }
   ],
   "source": [
    "t[-3]"
   ]
  },
  {
   "cell_type": "code",
   "execution_count": 27,
   "id": "91ec0582",
   "metadata": {},
   "outputs": [
    {
     "data": {
      "text/plain": [
       "(1, 2, 3, 4, 5)"
      ]
     },
     "execution_count": 27,
     "metadata": {},
     "output_type": "execute_result"
    }
   ],
   "source": [
    "t[0:]"
   ]
  },
  {
   "cell_type": "code",
   "execution_count": 29,
   "id": "747fb6bf",
   "metadata": {},
   "outputs": [
    {
     "data": {
      "text/plain": [
       "2"
      ]
     },
     "execution_count": 29,
     "metadata": {},
     "output_type": "execute_result"
    }
   ],
   "source": [
    "t[-4]"
   ]
  },
  {
   "cell_type": "code",
   "execution_count": 37,
   "id": "d07146d6",
   "metadata": {},
   "outputs": [
    {
     "data": {
      "text/plain": [
       "(3, 2)"
      ]
     },
     "execution_count": 37,
     "metadata": {},
     "output_type": "execute_result"
    }
   ],
   "source": [
    "t[-3:-5:1]"
   ]
  },
  {
   "cell_type": "code",
   "execution_count": 39,
   "id": "7d9a2292",
   "metadata": {},
   "outputs": [
    {
     "data": {
      "text/plain": [
       "()"
      ]
     },
     "execution_count": 39,
     "metadata": {},
     "output_type": "execute_result"
    }
   ],
   "source": [
    "t[-3:-5:1]"
   ]
  },
  {
   "cell_type": "code",
   "execution_count": 32,
   "id": "289684ae",
   "metadata": {},
   "outputs": [
    {
     "data": {
      "text/plain": [
       "(5,)"
      ]
     },
     "execution_count": 32,
     "metadata": {},
     "output_type": "execute_result"
    }
   ],
   "source": [
    "t[-1:]"
   ]
  },
  {
   "cell_type": "code",
   "execution_count": 33,
   "id": "5286524b",
   "metadata": {},
   "outputs": [
    {
     "data": {
      "text/plain": [
       "(5, 4, 3, 2, 1)"
      ]
     },
     "execution_count": 33,
     "metadata": {},
     "output_type": "execute_result"
    }
   ],
   "source": [
    "t[::-1] # reverse tuple"
   ]
  },
  {
   "cell_type": "code",
   "execution_count": 41,
   "id": "02168581",
   "metadata": {},
   "outputs": [
    {
     "data": {
      "text/plain": [
       "(1, 2, 3, 4)"
      ]
     },
     "execution_count": 41,
     "metadata": {},
     "output_type": "execute_result"
    }
   ],
   "source": [
    "t[0:4]"
   ]
  },
  {
   "cell_type": "code",
   "execution_count": 43,
   "id": "1a9375f5",
   "metadata": {},
   "outputs": [
    {
     "data": {
      "text/plain": [
       "(1, 4)"
      ]
     },
     "execution_count": 43,
     "metadata": {},
     "output_type": "execute_result"
    }
   ],
   "source": [
    "t[0:5:3]"
   ]
  },
  {
   "cell_type": "code",
   "execution_count": 44,
   "id": "e16aa01e",
   "metadata": {},
   "outputs": [],
   "source": [
    "# tuples are immutable"
   ]
  },
  {
   "cell_type": "code",
   "execution_count": 46,
   "id": "6a309624",
   "metadata": {},
   "outputs": [],
   "source": [
    "# adding items not possible in tuple"
   ]
  },
  {
   "cell_type": "code",
   "execution_count": 48,
   "id": "89debc25",
   "metadata": {},
   "outputs": [
    {
     "ename": "NameError",
     "evalue": "name 't3' is not defined",
     "output_type": "error",
     "traceback": [
      "\u001b[0;31m---------------------------------------------------------------------------\u001b[0m",
      "\u001b[0;31mNameError\u001b[0m                                 Traceback (most recent call last)",
      "Cell \u001b[0;32mIn[48], line 2\u001b[0m\n\u001b[1;32m      1\u001b[0m \u001b[38;5;66;03m# deletion\u001b[39;00m\n\u001b[0;32m----> 2\u001b[0m \u001b[38;5;28mprint\u001b[39m(t3)\n\u001b[1;32m      3\u001b[0m \u001b[38;5;28;01mdel\u001b[39;00m t3\n\u001b[1;32m      4\u001b[0m \u001b[38;5;28mprint\u001b[39m(t3)\n",
      "\u001b[0;31mNameError\u001b[0m: name 't3' is not defined"
     ]
    }
   ],
   "source": [
    "# deletion\n",
    "print(t3)\n",
    "del t3\n",
    "print(t3)"
   ]
  },
  {
   "cell_type": "code",
   "execution_count": 50,
   "id": "eea1adb4",
   "metadata": {},
   "outputs": [
    {
     "name": "stdout",
     "output_type": "stream",
     "text": [
      "(1, 2, 3, (4, 5))\n"
     ]
    },
    {
     "ename": "TypeError",
     "evalue": "'tuple' object doesn't support item deletion",
     "output_type": "error",
     "traceback": [
      "\u001b[0;31m---------------------------------------------------------------------------\u001b[0m",
      "\u001b[0;31mTypeError\u001b[0m                                 Traceback (most recent call last)",
      "Cell \u001b[0;32mIn[50], line 2\u001b[0m\n\u001b[1;32m      1\u001b[0m \u001b[38;5;28mprint\u001b[39m(t5)\n\u001b[0;32m----> 2\u001b[0m \u001b[38;5;28;01mdel\u001b[39;00m t5[\u001b[38;5;241m0\u001b[39m]\n",
      "\u001b[0;31mTypeError\u001b[0m: 'tuple' object doesn't support item deletion"
     ]
    }
   ],
   "source": [
    "print(t5)\n",
    "del t5[0]"
   ]
  },
  {
   "cell_type": "code",
   "execution_count": 51,
   "id": "99e94c34",
   "metadata": {},
   "outputs": [],
   "source": [
    "# deletion of whole tuple is possible\n",
    "# we can't delete a single element from the tuple\n",
    "# because of tuples are immutable\n"
   ]
  }
 ],
 "metadata": {
  "kernelspec": {
   "display_name": "Python 3 (ipykernel)",
   "language": "python",
   "name": "python3"
  },
  "language_info": {
   "codemirror_mode": {
    "name": "ipython",
    "version": 3
   },
   "file_extension": ".py",
   "mimetype": "text/x-python",
   "name": "python",
   "nbconvert_exporter": "python",
   "pygments_lexer": "ipython3",
   "version": "3.11.4"
  }
 },
 "nbformat": 4,
 "nbformat_minor": 5
}
