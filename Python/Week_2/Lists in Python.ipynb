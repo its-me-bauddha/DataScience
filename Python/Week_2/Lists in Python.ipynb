{
 "cells": [
  {
   "cell_type": "raw",
   "id": "063a64e0",
   "metadata": {},
   "source": [
    "# List is a data type where you can store multiple items\n",
    "  under 1 name. \n",
    "More technically , lists act like dynamic arrays which means you can add more items on the fly\n",
    "\n",
    "l = [20,'harsh',35.54,[30,40,True]]\n",
    "\n",
    "\n",
    "# why lists are required in programming ? \n",
    "\n"
   ]
  },
  {
   "cell_type": "raw",
   "id": "66298289",
   "metadata": {},
   "source": [
    "# Array vs Lists :\n",
    "\n",
    "  Advantages of list:\n",
    "    * Fixed vs Dynamic Size.\n",
    "    * Convinience -> Hetrogeneous.\n",
    "    \n",
    "  Disadvantages of list :\n",
    "    * Speed of Execution is slow.\n",
    "    * Memory required more than arrays."
   ]
  },
  {
   "cell_type": "raw",
   "id": "791c1ce1",
   "metadata": {},
   "source": [
    "# How lists are stored in memory  ? \n",
    "    lists are stored pinter of the variable called as referencial array .\n",
    "    - id : represents the memory address of the variable\n",
    "            print(id(1))\n",
    "            \n",
    "     "
   ]
  },
  {
   "cell_type": "code",
   "execution_count": 2,
   "id": "f0905aec",
   "metadata": {},
   "outputs": [
    {
     "name": "stdout",
     "output_type": "stream",
     "text": [
      "4375094176\n"
     ]
    }
   ],
   "source": [
    "print(id(1))"
   ]
  },
  {
   "cell_type": "code",
   "execution_count": 8,
   "id": "e2b65789",
   "metadata": {},
   "outputs": [],
   "source": [
    "l = [2,3,4]"
   ]
  },
  {
   "cell_type": "code",
   "execution_count": 9,
   "id": "e736d935",
   "metadata": {},
   "outputs": [
    {
     "name": "stdout",
     "output_type": "stream",
     "text": [
      "4375094208\n"
     ]
    }
   ],
   "source": [
    "print(id(l[0]))"
   ]
  },
  {
   "cell_type": "code",
   "execution_count": 13,
   "id": "717ec725",
   "metadata": {},
   "outputs": [
    {
     "name": "stdout",
     "output_type": "stream",
     "text": [
      "<built-in function id>\n"
     ]
    }
   ],
   "source": [
    "print(id)"
   ]
  },
  {
   "cell_type": "raw",
   "id": "80944715",
   "metadata": {},
   "source": [
    "# Characterstics of a List\n",
    "    \n",
    "    * Ordered \n",
    "    * Changeble /Mutable\n",
    "    * Hetrogeneous \n",
    "    * Can have duplicates\n",
    "    * Are Dynamic\n",
    "    * Can be nested\n",
    "    * Items can be nested\n",
    "    * Can contain any kind of objects in python.\n",
    "    "
   ]
  },
  {
   "cell_type": "code",
   "execution_count": 16,
   "id": "5255c57a",
   "metadata": {},
   "outputs": [
    {
     "data": {
      "text/plain": [
       "True"
      ]
     },
     "execution_count": 16,
     "metadata": {},
     "output_type": "execute_result"
    }
   ],
   "source": [
    "l = [1,2,3]\n",
    "l1 =[1,2,3]\n",
    "l==l1"
   ]
  },
  {
   "cell_type": "code",
   "execution_count": 18,
   "id": "8c98de3d",
   "metadata": {},
   "outputs": [
    {
     "data": {
      "text/plain": [
       "False"
      ]
     },
     "execution_count": 18,
     "metadata": {},
     "output_type": "execute_result"
    }
   ],
   "source": [
    "l = [1,2,3]\n",
    "l1 =[1,2,1]\n",
    "l==l1"
   ]
  },
  {
   "cell_type": "code",
   "execution_count": 20,
   "id": "3f0f39ff",
   "metadata": {},
   "outputs": [
    {
     "name": "stdout",
     "output_type": "stream",
     "text": [
      "[1, 2, 3, [1, 2, 3]]\n"
     ]
    }
   ],
   "source": [
    "l = [1,2,3,[1,2,3]]\n",
    "print(l)"
   ]
  },
  {
   "cell_type": "code",
   "execution_count": 22,
   "id": "c5e1ab84",
   "metadata": {},
   "outputs": [
    {
     "name": "stdout",
     "output_type": "stream",
     "text": [
      "[]\n"
     ]
    }
   ],
   "source": [
    "# Creating a LIST : \n",
    "\n",
    "# empty\n",
    "print([])"
   ]
  },
  {
   "cell_type": "code",
   "execution_count": 24,
   "id": "be79f086",
   "metadata": {},
   "outputs": [
    {
     "name": "stdout",
     "output_type": "stream",
     "text": [
      "[1, 2, 3, 4]\n"
     ]
    }
   ],
   "source": [
    "# 1D \n",
    "print([1,2,3,4])"
   ]
  },
  {
   "cell_type": "code",
   "execution_count": 27,
   "id": "9868fc70",
   "metadata": {},
   "outputs": [
    {
     "name": "stdout",
     "output_type": "stream",
     "text": [
      "[1, 2, 3, [4, 5, 6]]\n"
     ]
    }
   ],
   "source": [
    "# 2D\n",
    "print([1,2,3,[4,5,6]])"
   ]
  },
  {
   "cell_type": "code",
   "execution_count": 31,
   "id": "f1be2e2f",
   "metadata": {},
   "outputs": [
    {
     "name": "stdout",
     "output_type": "stream",
     "text": [
      "[1, 2, 3, [4, 5, 6, [7, 8, 9]]]\n"
     ]
    }
   ],
   "source": [
    "# 3D \n",
    "print([1,2,3,[4,5,6,[7,8,9]]])"
   ]
  },
  {
   "cell_type": "code",
   "execution_count": 33,
   "id": "6133430d",
   "metadata": {},
   "outputs": [
    {
     "name": "stdout",
     "output_type": "stream",
     "text": [
      "[1, True, 5.6, (5+6j), 'ehllo']\n"
     ]
    }
   ],
   "source": [
    "# Heterogenous\n",
    "print([1,True,5.6,5+6j,'ehllo'])"
   ]
  },
  {
   "cell_type": "code",
   "execution_count": 35,
   "id": "1335f3f4",
   "metadata": {},
   "outputs": [
    {
     "name": "stdout",
     "output_type": "stream",
     "text": [
      "['h', 'e', 'l', 'l', 'o']\n"
     ]
    }
   ],
   "source": [
    "# type conversion\n",
    "print(list('hello'))"
   ]
  },
  {
   "cell_type": "code",
   "execution_count": 39,
   "id": "f040be5e",
   "metadata": {},
   "outputs": [
    {
     "name": "stdout",
     "output_type": "stream",
     "text": [
      "['T', 'u', 'r', 'e', ' ', '!', '!']\n"
     ]
    }
   ],
   "source": [
    "print(list('Ture !!'))"
   ]
  },
  {
   "cell_type": "code",
   "execution_count": null,
   "id": "a6960c4c",
   "metadata": {},
   "outputs": [],
   "source": [
    "# Accessing items from a list\n",
    " # 1. Indexing \n",
    " # 2. Slicing"
   ]
  },
  {
   "cell_type": "code",
   "execution_count": 42,
   "id": "36ec269d",
   "metadata": {},
   "outputs": [],
   "source": [
    "\n",
    "l= [1,2,3,4,5]\n"
   ]
  },
  {
   "cell_type": "code",
   "execution_count": 45,
   "id": "ba2d958c",
   "metadata": {},
   "outputs": [
    {
     "data": {
      "text/plain": [
       "4"
      ]
     },
     "execution_count": 45,
     "metadata": {},
     "output_type": "execute_result"
    }
   ],
   "source": [
    "l[0]  # positive indexing\n",
    "l[-2] # negative indexing"
   ]
  },
  {
   "cell_type": "code",
   "execution_count": 47,
   "id": "10debfb2",
   "metadata": {},
   "outputs": [],
   "source": [
    "l1 = [1,2,3,[4,5]]"
   ]
  },
  {
   "cell_type": "code",
   "execution_count": 49,
   "id": "8b22d9a1",
   "metadata": {},
   "outputs": [
    {
     "data": {
      "text/plain": [
       "4"
      ]
     },
     "execution_count": 49,
     "metadata": {},
     "output_type": "execute_result"
    }
   ],
   "source": [
    "l1[-1][-2] # negative indexing"
   ]
  },
  {
   "cell_type": "code",
   "execution_count": 51,
   "id": "18e04410",
   "metadata": {},
   "outputs": [
    {
     "data": {
      "text/plain": [
       "4"
      ]
     },
     "execution_count": 51,
     "metadata": {},
     "output_type": "execute_result"
    }
   ],
   "source": [
    "l1[3][0] # positive indexing"
   ]
  },
  {
   "cell_type": "code",
   "execution_count": 53,
   "id": "ac1dc98f",
   "metadata": {},
   "outputs": [
    {
     "name": "stdout",
     "output_type": "stream",
     "text": [
      "[1, 2, 3]\n"
     ]
    }
   ],
   "source": [
    "# Slicing\n",
    "print(l[0:3])"
   ]
  },
  {
   "cell_type": "code",
   "execution_count": 57,
   "id": "0b484491",
   "metadata": {},
   "outputs": [
    {
     "data": {
      "text/plain": [
       "[1, 2]"
      ]
     },
     "execution_count": 57,
     "metadata": {},
     "output_type": "execute_result"
    }
   ],
   "source": [
    "l[:-3]"
   ]
  },
  {
   "cell_type": "code",
   "execution_count": 59,
   "id": "972ed21e",
   "metadata": {},
   "outputs": [
    {
     "data": {
      "text/plain": [
       "[4, 5]"
      ]
     },
     "execution_count": 59,
     "metadata": {},
     "output_type": "execute_result"
    }
   ],
   "source": [
    "l[-2:]"
   ]
  },
  {
   "cell_type": "code",
   "execution_count": 61,
   "id": "d7ea9501",
   "metadata": {},
   "outputs": [
    {
     "data": {
      "text/plain": [
       "[1, 3, 5]"
      ]
     },
     "execution_count": 61,
     "metadata": {},
     "output_type": "execute_result"
    }
   ],
   "source": [
    "l[0::2]"
   ]
  },
  {
   "cell_type": "code",
   "execution_count": 63,
   "id": "da208e89",
   "metadata": {},
   "outputs": [
    {
     "data": {
      "text/plain": [
       "[1, 3]"
      ]
     },
     "execution_count": 63,
     "metadata": {},
     "output_type": "execute_result"
    }
   ],
   "source": [
    "l[-5:-2:2]"
   ]
  },
  {
   "cell_type": "code",
   "execution_count": 66,
   "id": "8d1bd84a",
   "metadata": {},
   "outputs": [
    {
     "data": {
      "text/plain": [
       "[5, 4, 3, 2, 1]"
      ]
     },
     "execution_count": 66,
     "metadata": {},
     "output_type": "execute_result"
    }
   ],
   "source": [
    "l[::-1] # reverse a list "
   ]
  },
  {
   "cell_type": "code",
   "execution_count": null,
   "id": "dee19516",
   "metadata": {},
   "outputs": [],
   "source": [
    "# Adding Items to a list \n",
    "1.append : add single item\n",
    "2.extend : add multiple item\n",
    "3.insert : add at desired index"
   ]
  },
  {
   "cell_type": "code",
   "execution_count": 86,
   "id": "cea84db5",
   "metadata": {},
   "outputs": [],
   "source": [
    "# append \n",
    "l = [1,2,3,4,5]"
   ]
  },
  {
   "cell_type": "code",
   "execution_count": 87,
   "id": "835fdbb3",
   "metadata": {},
   "outputs": [
    {
     "data": {
      "text/plain": [
       "[1, 2, 3, 4, 5, True, [7, 8, 9]]"
      ]
     },
     "execution_count": 87,
     "metadata": {},
     "output_type": "execute_result"
    }
   ],
   "source": [
    "l.append(True)\n",
    "l.append([7,8,9])\n",
    "l"
   ]
  },
  {
   "cell_type": "code",
   "execution_count": 92,
   "id": "6138d4a8",
   "metadata": {},
   "outputs": [],
   "source": [
    "l1 = [1,2,3,4,5]"
   ]
  },
  {
   "cell_type": "code",
   "execution_count": 93,
   "id": "157230e8",
   "metadata": {},
   "outputs": [
    {
     "data": {
      "text/plain": [
       "[1, 2, 3, 4, 5, 6, 7, 8, True, [9, 10, 11]]"
      ]
     },
     "execution_count": 93,
     "metadata": {},
     "output_type": "execute_result"
    }
   ],
   "source": [
    "# extend \n",
    "l1.extend([6,7,8])\n",
    "l1.append(True)\n",
    "l1.append([9,10,11])\n",
    "l1"
   ]
  },
  {
   "cell_type": "code",
   "execution_count": 95,
   "id": "3e81f6b4",
   "metadata": {},
   "outputs": [
    {
     "data": {
      "text/plain": [
       "[1, 100, 2, 3, 4, 5]"
      ]
     },
     "execution_count": 95,
     "metadata": {},
     "output_type": "execute_result"
    }
   ],
   "source": [
    "# insert \n",
    "l2 = [1,2,3,4,5]\n",
    "l2.insert(1,100)\n",
    "l2"
   ]
  },
  {
   "cell_type": "code",
   "execution_count": 97,
   "id": "f56cac2d",
   "metadata": {},
   "outputs": [
    {
     "data": {
      "text/plain": [
       "[100, 2, 3, 4, 5]"
      ]
     },
     "execution_count": 97,
     "metadata": {},
     "output_type": "execute_result"
    }
   ],
   "source": [
    "# Editing items in a List \n",
    "l1 = [1,2,3,4,5]  \n",
    "l1[0] =100       # editing with indexing\n",
    "l1"
   ]
  },
  {
   "cell_type": "code",
   "execution_count": 100,
   "id": "01c4b5b7",
   "metadata": {},
   "outputs": [
    {
     "data": {
      "text/plain": [
       "[100, 200, 300, 400, 400, 400, 4, 5]"
      ]
     },
     "execution_count": 100,
     "metadata": {},
     "output_type": "execute_result"
    }
   ],
   "source": [
    "l1[1:3] = [200,300,400] # editing with slicing  \n",
    "l1"
   ]
  },
  {
   "cell_type": "code",
   "execution_count": null,
   "id": "3538c973",
   "metadata": {},
   "outputs": [],
   "source": [
    "# Deleting items from a List \n",
    "1.del keyword\n",
    "2.remove\n",
    "3.pop\n",
    "4.clear"
   ]
  },
  {
   "cell_type": "code",
   "execution_count": 108,
   "id": "5372917e",
   "metadata": {},
   "outputs": [
    {
     "name": "stdout",
     "output_type": "stream",
     "text": [
      "[2, 3, 4, 5]\n"
     ]
    }
   ],
   "source": [
    "# delete \n",
    "l = [1,2,3,4,5]\n",
    "del l[0]  #index del \n",
    "print(l)"
   ]
  },
  {
   "cell_type": "code",
   "execution_count": 110,
   "id": "87e79248",
   "metadata": {},
   "outputs": [
    {
     "data": {
      "text/plain": [
       "[2, 3]"
      ]
     },
     "execution_count": 110,
     "metadata": {},
     "output_type": "execute_result"
    }
   ],
   "source": [
    "del l[2:4] #slicing\n",
    "l"
   ]
  },
  {
   "cell_type": "code",
   "execution_count": 112,
   "id": "a3460edb",
   "metadata": {},
   "outputs": [
    {
     "data": {
      "text/plain": [
       "[1, 2, 3, 4]"
      ]
     },
     "execution_count": 112,
     "metadata": {},
     "output_type": "execute_result"
    }
   ],
   "source": [
    "l = [1,2,3,4,5]\n",
    "l.remove(5) # remove\n",
    "l "
   ]
  },
  {
   "cell_type": "code",
   "execution_count": 114,
   "id": "5b9c7857",
   "metadata": {},
   "outputs": [
    {
     "ename": "ValueError",
     "evalue": "list.remove(x): x not in list",
     "output_type": "error",
     "traceback": [
      "\u001b[0;31m---------------------------------------------------------------------------\u001b[0m",
      "\u001b[0;31mValueError\u001b[0m                                Traceback (most recent call last)",
      "Cell \u001b[0;32mIn[114], line 1\u001b[0m\n\u001b[0;32m----> 1\u001b[0m l\u001b[38;5;241m.\u001b[39mremove(l)\n\u001b[1;32m      2\u001b[0m l\n",
      "\u001b[0;31mValueError\u001b[0m: list.remove(x): x not in list"
     ]
    }
   ],
   "source": [
    "l.remove(l) # remove\n",
    "l"
   ]
  },
  {
   "cell_type": "code",
   "execution_count": 116,
   "id": "bac226ce",
   "metadata": {},
   "outputs": [
    {
     "data": {
      "text/plain": [
       "[2, 3, 4, 5]"
      ]
     },
     "execution_count": 116,
     "metadata": {},
     "output_type": "execute_result"
    }
   ],
   "source": [
    "#  pop \n",
    "l = [1,2,3,4,5]\n",
    "l.pop(0) \n",
    "l"
   ]
  },
  {
   "cell_type": "code",
   "execution_count": 117,
   "id": "c3bb2cb2",
   "metadata": {},
   "outputs": [
    {
     "data": {
      "text/plain": [
       "[2, 3, 4]"
      ]
     },
     "execution_count": 117,
     "metadata": {},
     "output_type": "execute_result"
    }
   ],
   "source": [
    "l.pop()\n",
    "l"
   ]
  }
 ],
 "metadata": {
  "kernelspec": {
   "display_name": "Python 3 (ipykernel)",
   "language": "python",
   "name": "python3"
  },
  "language_info": {
   "codemirror_mode": {
    "name": "ipython",
    "version": 3
   },
   "file_extension": ".py",
   "mimetype": "text/x-python",
   "name": "python",
   "nbconvert_exporter": "python",
   "pygments_lexer": "ipython3",
   "version": "3.11.4"
  }
 },
 "nbformat": 4,
 "nbformat_minor": 5
}
