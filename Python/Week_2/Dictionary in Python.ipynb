{
 "cells": [
  {
   "cell_type": "markdown",
   "id": "936e4387",
   "metadata": {},
   "source": [
    "# Dictionary "
   ]
  },
  {
   "cell_type": "code",
   "execution_count": null,
   "id": "8ccaa3c4",
   "metadata": {},
   "outputs": [],
   "source": [
    "Dictionary in Python is a collection of key and values.\n",
    "Used to store data values like a map,which unlike other data types which hold only a single values as an element.\n",
    "\n",
    "In some languages it is knowm as map or assosiative arrays.\n",
    "\n",
    "dict = {'name' : 'nitish', 'age' : 33 , 'gender' : 'male'}\n",
    "\n",
    "Characterstics : \n",
    "    * Mutable.\n",
    "    * Indexing has no meaning.\n",
    "    * Keys can't be duplicated.\n",
    "    * keys can't be mutable items."
   ]
  },
  {
   "cell_type": "markdown",
   "id": "46c886d9",
   "metadata": {},
   "source": [
    "## create dictionary\n"
   ]
  },
  {
   "cell_type": "code",
   "execution_count": 2,
   "id": "d0b26bf1",
   "metadata": {},
   "outputs": [
    {
     "data": {
      "text/plain": [
       "{}"
      ]
     },
     "execution_count": 2,
     "metadata": {},
     "output_type": "execute_result"
    }
   ],
   "source": [
    "d = {}\n",
    "d"
   ]
  },
  {
   "cell_type": "code",
   "execution_count": 4,
   "id": "47d4bd81",
   "metadata": {},
   "outputs": [
    {
     "data": {
      "text/plain": [
       "{'name': 'abc', 'isalpha': True}"
      ]
     },
     "execution_count": 4,
     "metadata": {},
     "output_type": "execute_result"
    }
   ],
   "source": [
    "d = {'name' : 'abc' ,'isalpha' : True}\n",
    "d "
   ]
  },
  {
   "cell_type": "code",
   "execution_count": 6,
   "id": "d593b4c8",
   "metadata": {},
   "outputs": [
    {
     "data": {
      "text/plain": [
       "{(1, 2, 3): 1}"
      ]
     },
     "execution_count": 6,
     "metadata": {},
     "output_type": "execute_result"
    }
   ],
   "source": [
    "d2  = {(1,2,3) : 1}\n",
    "d2"
   ]
  },
  {
   "cell_type": "code",
   "execution_count": 8,
   "id": "ee552b26",
   "metadata": {},
   "outputs": [
    {
     "data": {
      "text/plain": [
       "{'name': 'nitish',\n",
       " 'college': 'bit',\n",
       " 'sem': 4,\n",
       " 'subjects': {'dsa': 50, 'maths': 70, 'english': 34}}"
      ]
     },
     "execution_count": 8,
     "metadata": {},
     "output_type": "execute_result"
    }
   ],
   "source": [
    "s = {\n",
    "    'name':'nitish',\n",
    "    'college' : 'bit',\n",
    "    'sem':4,\n",
    "    'subjects':{\n",
    "        'dsa':50,\n",
    "        'maths':70,\n",
    "        'english':34\n",
    "    }\n",
    "}\n",
    "s"
   ]
  },
  {
   "cell_type": "code",
   "execution_count": 12,
   "id": "6ca9255b",
   "metadata": {},
   "outputs": [
    {
     "data": {
      "text/plain": [
       "{1: 1, 2: 2}"
      ]
     },
     "execution_count": 12,
     "metadata": {},
     "output_type": "execute_result"
    }
   ],
   "source": [
    "d2 = dict([(1,1),(2,2)])\n",
    "d2"
   ]
  },
  {
   "cell_type": "code",
   "execution_count": 15,
   "id": "33dddfc3",
   "metadata": {},
   "outputs": [],
   "source": [
    "# accessing elements : \n",
    "my_dict = {'name':'jack','age':23}\n"
   ]
  },
  {
   "cell_type": "code",
   "execution_count": 16,
   "id": "4a508ca8",
   "metadata": {},
   "outputs": [
    {
     "data": {
      "text/plain": [
       "'jack'"
      ]
     },
     "execution_count": 16,
     "metadata": {},
     "output_type": "execute_result"
    }
   ],
   "source": [
    "my_dict['name']"
   ]
  },
  {
   "cell_type": "code",
   "execution_count": 17,
   "id": "0c2252ad",
   "metadata": {},
   "outputs": [
    {
     "data": {
      "text/plain": [
       "23"
      ]
     },
     "execution_count": 17,
     "metadata": {},
     "output_type": "execute_result"
    }
   ],
   "source": [
    "my_dict['age']"
   ]
  },
  {
   "cell_type": "code",
   "execution_count": 19,
   "id": "99d37c4b",
   "metadata": {},
   "outputs": [],
   "source": [
    "my_dict['class'] = 4"
   ]
  },
  {
   "cell_type": "code",
   "execution_count": 21,
   "id": "cd78a099",
   "metadata": {},
   "outputs": [
    {
     "data": {
      "text/plain": [
       "{'name': 'jack', 'age': 23, 'class': 4}"
      ]
     },
     "execution_count": 21,
     "metadata": {},
     "output_type": "execute_result"
    }
   ],
   "source": [
    "my_dict"
   ]
  },
  {
   "cell_type": "code",
   "execution_count": 24,
   "id": "62434850",
   "metadata": {},
   "outputs": [
    {
     "data": {
      "text/plain": [
       "{'dsa': 50, 'maths': 70, 'english': 34}"
      ]
     },
     "execution_count": 24,
     "metadata": {},
     "output_type": "execute_result"
    }
   ],
   "source": [
    "s ={'dsa': 50, 'maths': 70, 'english': 34}\n",
    "s"
   ]
  },
  {
   "cell_type": "code",
   "execution_count": 25,
   "id": "5861b9fe",
   "metadata": {},
   "outputs": [],
   "source": [
    "# remove key-value pair"
   ]
  },
  {
   "cell_type": "code",
   "execution_count": 29,
   "id": "639ee0c5",
   "metadata": {},
   "outputs": [
    {
     "ename": "KeyError",
     "evalue": "'dsa'",
     "output_type": "error",
     "traceback": [
      "\u001b[0;31m---------------------------------------------------------------------------\u001b[0m",
      "\u001b[0;31mKeyError\u001b[0m                                  Traceback (most recent call last)",
      "Cell \u001b[0;32mIn[29], line 2\u001b[0m\n\u001b[1;32m      1\u001b[0m \u001b[38;5;66;03m# pop \u001b[39;00m\n\u001b[0;32m----> 2\u001b[0m s\u001b[38;5;241m.\u001b[39mpop(\u001b[38;5;124m'\u001b[39m\u001b[38;5;124mdsa\u001b[39m\u001b[38;5;124m'\u001b[39m)\n",
      "\u001b[0;31mKeyError\u001b[0m: 'dsa'"
     ]
    }
   ],
   "source": [
    "# pop \n",
    "s.pop('dsa')"
   ]
  },
  {
   "cell_type": "code",
   "execution_count": 30,
   "id": "d03ded0b",
   "metadata": {},
   "outputs": [
    {
     "data": {
      "text/plain": [
       "('english', 34)"
      ]
     },
     "execution_count": 30,
     "metadata": {},
     "output_type": "execute_result"
    }
   ],
   "source": [
    "s.popitem()"
   ]
  },
  {
   "cell_type": "code",
   "execution_count": 32,
   "id": "7bc16e24",
   "metadata": {},
   "outputs": [
    {
     "ename": "KeyError",
     "evalue": "'name'",
     "output_type": "error",
     "traceback": [
      "\u001b[0;31m---------------------------------------------------------------------------\u001b[0m",
      "\u001b[0;31mKeyError\u001b[0m                                  Traceback (most recent call last)",
      "Cell \u001b[0;32mIn[32], line 1\u001b[0m\n\u001b[0;32m----> 1\u001b[0m \u001b[38;5;28;01mdel\u001b[39;00m my_dict[\u001b[38;5;124m'\u001b[39m\u001b[38;5;124mname\u001b[39m\u001b[38;5;124m'\u001b[39m]\n",
      "\u001b[0;31mKeyError\u001b[0m: 'name'"
     ]
    }
   ],
   "source": [
    "del my_dict['name']"
   ]
  },
  {
   "cell_type": "code",
   "execution_count": 34,
   "id": "7693640d",
   "metadata": {},
   "outputs": [
    {
     "data": {
      "text/plain": [
       "{}"
      ]
     },
     "execution_count": 34,
     "metadata": {},
     "output_type": "execute_result"
    }
   ],
   "source": [
    "s.clear()\n",
    "s"
   ]
  },
  {
   "cell_type": "code",
   "execution_count": null,
   "id": "71fe7482",
   "metadata": {},
   "outputs": [],
   "source": []
  }
 ],
 "metadata": {
  "kernelspec": {
   "display_name": "Python 3 (ipykernel)",
   "language": "python",
   "name": "python3"
  },
  "language_info": {
   "codemirror_mode": {
    "name": "ipython",
    "version": 3
   },
   "file_extension": ".py",
   "mimetype": "text/x-python",
   "name": "python",
   "nbconvert_exporter": "python",
   "pygments_lexer": "ipython3",
   "version": "3.11.4"
  }
 },
 "nbformat": 4,
 "nbformat_minor": 5
}
