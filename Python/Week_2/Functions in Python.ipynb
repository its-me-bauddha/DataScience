{
 "cells": [
  {
   "cell_type": "markdown",
   "id": "592179e3",
   "metadata": {},
   "source": [
    "# Functions in Python"
   ]
  },
  {
   "cell_type": "code",
   "execution_count": 2,
   "id": "378b2075",
   "metadata": {},
   "outputs": [],
   "source": [
    "# create a function \n",
    "# function declaration\n",
    "def is_even(num):\n",
    "    '''\n",
    "    return if a given num is odd or even\n",
    "    input - > any valid int\n",
    "    oputput -> odd/even\n",
    "    '''\n",
    "    \n",
    "    if num %2 ==0:\n",
    "        return 'even'\n",
    "    else :\n",
    "        return 'odd'"
   ]
  },
  {
   "cell_type": "code",
   "execution_count": 4,
   "id": "47c5bc06",
   "metadata": {},
   "outputs": [
    {
     "name": "stdout",
     "output_type": "stream",
     "text": [
      "odd\n",
      "even\n",
      "odd\n",
      "even\n",
      "odd\n",
      "even\n",
      "odd\n",
      "even\n",
      "odd\n",
      "even\n"
     ]
    }
   ],
   "source": [
    "# function. calling\n",
    "for i in range(1,11): \n",
    "    x = is_even(i)\n",
    "    print(x)"
   ]
  },
  {
   "cell_type": "markdown",
   "id": "a25a1080",
   "metadata": {},
   "source": [
    " # Types of arguments"
   ]
  },
  {
   "cell_type": "code",
   "execution_count": null,
   "id": "c1ca8d94",
   "metadata": {},
   "outputs": [],
   "source": [
    "1. Default argument \n",
    "2. Positional argument\n",
    "3. Keyword argument"
   ]
  },
  {
   "cell_type": "code",
   "execution_count": 13,
   "id": "97e04e67",
   "metadata": {},
   "outputs": [],
   "source": [
    "# default args\n",
    "def power(a=1,b=1):\n",
    "    return a**b"
   ]
  },
  {
   "cell_type": "code",
   "execution_count": 8,
   "id": "b233f6b3",
   "metadata": {},
   "outputs": [
    {
     "data": {
      "text/plain": [
       "2"
      ]
     },
     "execution_count": 8,
     "metadata": {},
     "output_type": "execute_result"
    }
   ],
   "source": [
    "power(2)"
   ]
  },
  {
   "cell_type": "code",
   "execution_count": 10,
   "id": "7f04001b",
   "metadata": {},
   "outputs": [
    {
     "data": {
      "text/plain": [
       "8"
      ]
     },
     "execution_count": 10,
     "metadata": {},
     "output_type": "execute_result"
    }
   ],
   "source": [
    "power(2,3)"
   ]
  },
  {
   "cell_type": "code",
   "execution_count": 14,
   "id": "ad496491",
   "metadata": {},
   "outputs": [
    {
     "data": {
      "text/plain": [
       "1"
      ]
     },
     "execution_count": 14,
     "metadata": {},
     "output_type": "execute_result"
    }
   ],
   "source": [
    "power(b=3)"
   ]
  },
  {
   "cell_type": "code",
   "execution_count": 16,
   "id": "2e1f8d51",
   "metadata": {},
   "outputs": [
    {
     "data": {
      "text/plain": [
       "8"
      ]
     },
     "execution_count": 16,
     "metadata": {},
     "output_type": "execute_result"
    }
   ],
   "source": [
    "# positional args\n",
    "power(2,3)"
   ]
  },
  {
   "cell_type": "code",
   "execution_count": 18,
   "id": "c65c47b1",
   "metadata": {},
   "outputs": [
    {
     "data": {
      "text/plain": [
       "8"
      ]
     },
     "execution_count": 18,
     "metadata": {},
     "output_type": "execute_result"
    }
   ],
   "source": [
    "# keyword args\n",
    "power(b=3,a=2)"
   ]
  },
  {
   "cell_type": "code",
   "execution_count": null,
   "id": "95a8785b",
   "metadata": {},
   "outputs": [],
   "source": []
  }
 ],
 "metadata": {
  "kernelspec": {
   "display_name": "Python 3 (ipykernel)",
   "language": "python",
   "name": "python3"
  },
  "language_info": {
   "codemirror_mode": {
    "name": "ipython",
    "version": 3
   },
   "file_extension": ".py",
   "mimetype": "text/x-python",
   "name": "python",
   "nbconvert_exporter": "python",
   "pygments_lexer": "ipython3",
   "version": "3.11.4"
  }
 },
 "nbformat": 4,
 "nbformat_minor": 5
}
