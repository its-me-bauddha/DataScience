{
 "cells": [
  {
   "cell_type": "code",
   "execution_count": 1,
   "id": "9f24decc",
   "metadata": {},
   "outputs": [
    {
     "ename": "SyntaxError",
     "evalue": "invalid syntax (2306324165.py, line 1)",
     "output_type": "error",
     "traceback": [
      "\u001b[0;36m  Cell \u001b[0;32mIn[1], line 1\u001b[0;36m\u001b[0m\n\u001b[0;31m    A lambda function is a small anonymous function\u001b[0m\n\u001b[0m      ^\u001b[0m\n\u001b[0;31mSyntaxError\u001b[0m\u001b[0;31m:\u001b[0m invalid syntax\n"
     ]
    }
   ],
   "source": [
    "A lambda function is a small anonymous function\n",
    "A lambda function can take any number of arguments , but only have one expression."
   ]
  },
  {
   "cell_type": "code",
   "execution_count": null,
   "id": "a0eaa2f6",
   "metadata": {},
   "outputs": [],
   "source": [
    "lambda a, b : a+b"
   ]
  },
  {
   "cell_type": "code",
   "execution_count": 3,
   "id": "e07a4f83",
   "metadata": {},
   "outputs": [
    {
     "data": {
      "text/plain": [
       "4"
      ]
     },
     "execution_count": 3,
     "metadata": {},
     "output_type": "execute_result"
    }
   ],
   "source": [
    "a = lambda x :x**2\n",
    "a(2)"
   ]
  },
  {
   "cell_type": "code",
   "execution_count": 5,
   "id": "79c75bf2",
   "metadata": {},
   "outputs": [
    {
     "data": {
      "text/plain": [
       "7"
      ]
     },
     "execution_count": 5,
     "metadata": {},
     "output_type": "execute_result"
    }
   ],
   "source": [
    "a = lambda x,y : x+y \n",
    "a(5,2)"
   ]
  },
  {
   "cell_type": "code",
   "execution_count": null,
   "id": "ee619f21",
   "metadata": {},
   "outputs": [],
   "source": [
    "# Difference between lambda vs Normal function\n",
    "1.No name\n",
    "2. lambda has no return value (infact returns a function)\n",
    "3. lambdais written in 1 line.\n",
    "4. not reusable\n",
    "\n",
    "# then why we use lambda functions ?\n",
    "They are used with HOF .\n"
   ]
  },
  {
   "cell_type": "code",
   "execution_count": 7,
   "id": "2c022e8f",
   "metadata": {},
   "outputs": [
    {
     "data": {
      "text/plain": [
       "False"
      ]
     },
     "execution_count": 7,
     "metadata": {},
     "output_type": "execute_result"
    }
   ],
   "source": [
    "# check if a string has 'a'\n",
    "a = lambda s :'a' in s\n",
    "a('hello')"
   ]
  },
  {
   "cell_type": "code",
   "execution_count": 9,
   "id": "bd1c4662",
   "metadata": {},
   "outputs": [
    {
     "data": {
      "text/plain": [
       "'even '"
      ]
     },
     "execution_count": 9,
     "metadata": {},
     "output_type": "execute_result"
    }
   ],
   "source": [
    "a = lambda x : 'even ' if x %2 == 0 else 'odd'\n",
    "a(6)"
   ]
  },
  {
   "cell_type": "markdown",
   "id": "c16e59d7",
   "metadata": {},
   "source": [
    "# Higher Order function"
   ]
  },
  {
   "cell_type": "code",
   "execution_count": 19,
   "id": "fb9c4016",
   "metadata": {},
   "outputs": [],
   "source": [
    "# function that retruns a function or\n",
    "# function that takes a functions as input\n",
    "\n",
    "def square(x):\n",
    "    return x**2\n",
    "\n",
    "def transform (f,l):\n",
    "    output = []\n",
    "    for i in l:\n",
    "        output.append(f(i))\n",
    "    print(output)\n",
    "   \n",
    "   "
   ]
  },
  {
   "cell_type": "code",
   "execution_count": 20,
   "id": "0354cbba",
   "metadata": {},
   "outputs": [
    {
     "name": "stdout",
     "output_type": "stream",
     "text": [
      "[1, 4, 9, 16, 25]\n"
     ]
    }
   ],
   "source": [
    "l =[1,2,3,4,5]\n",
    "transform(square,l)"
   ]
  }
 ],
 "metadata": {
  "kernelspec": {
   "display_name": "Python 3 (ipykernel)",
   "language": "python",
   "name": "python3"
  },
  "language_info": {
   "codemirror_mode": {
    "name": "ipython",
    "version": 3
   },
   "file_extension": ".py",
   "mimetype": "text/x-python",
   "name": "python",
   "nbconvert_exporter": "python",
   "pygments_lexer": "ipython3",
   "version": "3.11.4"
  }
 },
 "nbformat": 4,
 "nbformat_minor": 5
}
