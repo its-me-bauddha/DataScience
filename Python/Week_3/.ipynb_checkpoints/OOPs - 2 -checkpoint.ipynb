{
 "cells": [
  {
   "cell_type": "code",
   "execution_count": null,
   "id": "cf3888ce",
   "metadata": {},
   "outputs": [],
   "source": [
    "Write OOP classes to handle the following scenarios :\n",
    "    * A user can create and view 2D coordinates \n",
    "    * A user can find out the distance between 2 coordinates\n",
    "    * A user can find the distance of a coordinate from origin\n",
    "    * A user can check if a point lies on a given line\n",
    "    * A user can find the distance between a given 2D point and a given line."
   ]
  },
  {
   "cell_type": "code",
   "execution_count": 4,
   "id": "a50a43d6",
   "metadata": {},
   "outputs": [],
   "source": [
    "class Point :\n",
    "    def __init__(self,x,y):\n",
    "        self.x_cod =x\n",
    "        self.y_cod =y\n",
    "    def __str__(self):\n",
    "        return '< {},{} >'.format(self.x_cod,self.y_cod)"
   ]
  },
  {
   "cell_type": "code",
   "execution_count": 7,
   "id": "b6ccea8c",
   "metadata": {},
   "outputs": [
    {
     "name": "stdout",
     "output_type": "stream",
     "text": [
      "<4,4>\n"
     ]
    }
   ],
   "source": [
    "p1 = Point(4,4)\n",
    "# <x,y>\n",
    "print(p1)"
   ]
  },
  {
   "cell_type": "code",
   "execution_count": null,
   "id": "395a7009",
   "metadata": {},
   "outputs": [],
   "source": []
  }
 ],
 "metadata": {
  "kernelspec": {
   "display_name": "Python 3 (ipykernel)",
   "language": "python",
   "name": "python3"
  },
  "language_info": {
   "codemirror_mode": {
    "name": "ipython",
    "version": 3
   },
   "file_extension": ".py",
   "mimetype": "text/x-python",
   "name": "python",
   "nbconvert_exporter": "python",
   "pygments_lexer": "ipython3",
   "version": "3.11.4"
  }
 },
 "nbformat": 4,
 "nbformat_minor": 5
}
