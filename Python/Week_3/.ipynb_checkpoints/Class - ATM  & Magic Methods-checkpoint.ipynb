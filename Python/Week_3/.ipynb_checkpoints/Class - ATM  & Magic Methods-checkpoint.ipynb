{
 "cells": [
  {
   "cell_type": "code",
   "execution_count": 1,
   "id": "047629e7",
   "metadata": {},
   "outputs": [],
   "source": [
    "# PascalCase for class name"
   ]
  },
  {
   "cell_type": "code",
   "execution_count": null,
   "id": "91095774",
   "metadata": {},
   "outputs": [],
   "source": [
    "class Atm :\n",
    "    # constructor - > function class inside the class\n",
    "    def __init__(self):\n",
    "        self.pin = ''\n",
    "        self.balance = 0\n",
    "        self.menu()\n",
    "    def menu(self):\n",
    "        user_input =  input(\"\"\"\n",
    "        Hi how can I help you\n",
    "        1.Press 1 to create pin\n",
    "        2.Press 2 to change pin\n",
    "        3.Press 3 to check balance\n",
    "        4.Press 4 to withdraw \n",
    "        5.Press anything  to exit\n",
    "        \"\"\")\n",
    "        if user_input =='1':\n",
    "            #create pin\n",
    "            self.create_pin()\n",
    "        elif user_input =='2':\n",
    "            #change pin\n",
    "            self.change_pin()\n",
    "        elif user_input =='3':\n",
    "            # check balance\n",
    "            self.check_balance()\n",
    "        elif user_input =='4':\n",
    "            pass\n",
    "            # withdraw\n",
    "        else:\n",
    "            exit()\n",
    "    def create_pin(self):\n",
    "        user_pin = input('enter your pin => ')\n",
    "        self.pin = user_pin\n",
    "        \n",
    "        user_balance = int(input('enter your balance => '))\n",
    "        self.balance = user_balance\n",
    "        print('pin created successfully !! ')\n",
    "        self.menu()\n",
    "    def change_pin(self):\n",
    "        old_pin = input('enter your previous pin => ')\n",
    "        if old_pin == self.pin:\n",
    "            #change pin\n",
    "            new_pin = input('enter your new pin => ')\n",
    "            self.pin = new_pin\n",
    "            print('pin change successfully')\n",
    "            self.menu()\n",
    "        else :\n",
    "            print('invalid pin !! ')\n",
    "            self.menu()\n",
    "    def check_balance(self):\n",
    "        user_pin = input('enter your pin => ')\n",
    "        if(user_pin == self.pin):\n",
    "            print('your balance is => ' , self.balance)\n",
    "            self.menu()\n",
    "        else :\n",
    "            print('invalid pin !! ')\n",
    "            self.menu()\n",
    "    def withdraw(self):\n",
    "        user_pin = input('enter your pin => ')\n",
    "        if(user_pin == self.pin):\n",
    "            cash = int(input('enter amount to withdraw => '))\n",
    "            if(self.balance >= cash):\n",
    "            self.balance -= cash\n",
    "            print('cash withdrwal successfully')\n",
    "            self.menu()\n",
    "            else :\n",
    "                print('not enough balance !!')\n",
    "                self.menu()\n",
    "        else :\n",
    "            print('Invalid pin !! ')\n",
    "            self.menu()"
   ]
  },
  {
   "cell_type": "code",
   "execution_count": null,
   "id": "3a9f7bf2",
   "metadata": {},
   "outputs": [
    {
     "name": "stdout",
     "output_type": "stream",
     "text": [
      "\n",
      "        Hi how can I help you\n",
      "        1.Press 1 to create pin\n",
      "        2.Press 2 to change pin\n",
      "        3.Press 3 to check balance\n",
      "        4.Press 4 to withdraw \n",
      "        5.Press anything  to exit\n",
      "        1\n",
      "enter your pin => 123\n",
      "enter your balance => 123\n",
      "pin created successfully !! \n",
      "\n",
      "        Hi how can I help you\n",
      "        1.Press 1 to create pin\n",
      "        2.Press 2 to change pin\n",
      "        3.Press 3 to check balance\n",
      "        4.Press 4 to withdraw \n",
      "        5.Press anything  to exit\n",
      "        3\n",
      "enter your pin123\n",
      "your balance is =>  123\n"
     ]
    }
   ],
   "source": [
    "obj = Atm()"
   ]
  }
 ],
 "metadata": {
  "kernelspec": {
   "display_name": "Python 3 (ipykernel)",
   "language": "python",
   "name": "python3"
  },
  "language_info": {
   "codemirror_mode": {
    "name": "ipython",
    "version": 3
   },
   "file_extension": ".py",
   "mimetype": "text/x-python",
   "name": "python",
   "nbconvert_exporter": "python",
   "pygments_lexer": "ipython3",
   "version": "3.11.4"
  }
 },
 "nbformat": 4,
 "nbformat_minor": 5
}
