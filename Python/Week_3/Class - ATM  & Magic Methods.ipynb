{
 "cells": [
  {
   "cell_type": "code",
   "execution_count": 1,
   "id": "9a87128f",
   "metadata": {},
   "outputs": [],
   "source": [
    "# PascalCase for class name"
   ]
  },
  {
   "cell_type": "code",
   "execution_count": null,
   "id": "1473b678",
   "metadata": {},
   "outputs": [],
   "source": [
    "class Atm :\n",
    "    # constructor - > function class inside the class\n",
    "    def __init__(self):\n",
    "        self.pin = ''\n",
    "        self.balance = 0\n",
    "        self.menu()\n",
    "    def menu(self):\n",
    "        user_input =  input(\"\"\"\n",
    "        Hi how can I help you\n",
    "        1.Press 1 to create pin\n",
    "        2.Press 2 to change pin\n",
    "        3.Press 3 to check balance\n",
    "        4.Press 4 to withdraw \n",
    "        5.Press anything  to exit\n",
    "        \"\"\")\n",
    "        if user_input =='1':\n",
    "            #create pin\n",
    "            self.create_pin()\n",
    "        elif user_input =='2':\n",
    "            #change pin\n",
    "            self.change_pin()\n",
    "        elif user_input =='3':\n",
    "            # check balance\n",
    "            self.check_balance()\n",
    "        elif user_input =='4':\n",
    "            # withdraw\n",
    "            self.withdraw()\n",
    "        else:\n",
    "            exit()\n",
    "    def create_pin(self):\n",
    "        user_pin = input('enter your pin => ')\n",
    "        self.pin = user_pin\n",
    "        \n",
    "        user_balance = int(input('enter your balance => '))\n",
    "        self.balance = user_balance\n",
    "        print('pin created successfully !! ')\n",
    "        self.menu()\n",
    "    def change_pin(self):\n",
    "        old_pin = input('enter your previous pin => ')\n",
    "        if old_pin == self.pin:\n",
    "            #change pin\n",
    "            new_pin = input('enter your new pin => ')\n",
    "            self.pin = new_pin\n",
    "            print('pin change successfully')\n",
    "            self.menu()\n",
    "        else :\n",
    "            print('invalid pin !! ')\n",
    "            self.menu()\n",
    "    def check_balance(self):\n",
    "        user_pin = input('enter your pin => ')\n",
    "        if(user_pin == self.pin):\n",
    "            print('your balance is => ' , self.balance)\n",
    "            self.menu()\n",
    "        else :\n",
    "            print('invalid pin !! ')\n",
    "            self.menu()\n",
    "    def withdraw(self):\n",
    "        user_pin = input('enter your pin => ')\n",
    "        if(user_pin == self.pin):\n",
    "            cash = int(input('enter amount to withdraw => '))\n",
    "            if(self.balance >= cash and self.balance >0):\n",
    "                self.balance -= cash\n",
    "                print('cash withdrwal successfully' , cash)\n",
    "                self.menu()\n",
    "            else :\n",
    "                print('not enough balance !!')\n",
    "                self.menu()\n",
    "        else :\n",
    "            print('Invalid pin !! ')\n",
    "            self.menu()"
   ]
  },
  {
   "cell_type": "code",
   "execution_count": 12,
   "id": "78c2d6ad",
   "metadata": {},
   "outputs": [
    {
     "name": "stdout",
     "output_type": "stream",
     "text": [
      "\n",
      "        Hi how can I help you\n",
      "        1.Press 1 to create pin\n",
      "        2.Press 2 to change pin\n",
      "        3.Press 3 to check balance\n",
      "        4.Press 4 to withdraw \n",
      "        5.Press anything  to exit\n",
      "        1\n",
      "enter your pin => 123\n",
      "enter your balance => 123311\n",
      "pin created successfully !! \n",
      "\n",
      "        Hi how can I help you\n",
      "        1.Press 1 to create pin\n",
      "        2.Press 2 to change pin\n",
      "        3.Press 3 to check balance\n",
      "        4.Press 4 to withdraw \n",
      "        5.Press anything  to exit\n",
      "        2\n",
      "enter your previous pin => 12\n",
      "invalid pin !! \n",
      "\n",
      "        Hi how can I help you\n",
      "        1.Press 1 to create pin\n",
      "        2.Press 2 to change pin\n",
      "        3.Press 3 to check balance\n",
      "        4.Press 4 to withdraw \n",
      "        5.Press anything  to exit\n",
      "        12\n"
     ]
    }
   ],
   "source": [
    "obj = Atm()"
   ]
  },
  {
   "cell_type": "markdown",
   "id": "245ffa6d",
   "metadata": {},
   "source": [
    " "
   ]
  },
  {
   "cell_type": "code",
   "execution_count": 2,
   "id": "c267a264",
   "metadata": {},
   "outputs": [],
   "source": [
    "l = [1,2,3]\n",
    "len(l) # function - > bcoz it is outside the list class\n",
    "l.append(4) # method - > bcoz it is inside the list class\n"
   ]
  },
  {
   "cell_type": "code",
   "execution_count": 4,
   "id": "2173001c",
   "metadata": {},
   "outputs": [
    {
     "data": {
      "text/plain": [
       "[1, 2, 3, 4]"
      ]
     },
     "execution_count": 4,
     "metadata": {},
     "output_type": "execute_result"
    }
   ],
   "source": [
    "l"
   ]
  },
  {
   "cell_type": "code",
   "execution_count": 5,
   "id": "87affa3f",
   "metadata": {},
   "outputs": [
    {
     "name": "stdout",
     "output_type": "stream",
     "text": [
      "hello\n"
     ]
    }
   ],
   "source": [
    "class Temp :\n",
    "    def __init__(self):\n",
    "        print('hello')\n",
    "obj = Temp()"
   ]
  },
  {
   "cell_type": "code",
   "execution_count": 6,
   "id": "8ea9e7aa",
   "metadata": {},
   "outputs": [],
   "source": [
    "# constuctor is used to write the configuration related code. "
   ]
  },
  {
   "cell_type": "markdown",
   "id": "44fd9bb3",
   "metadata": {},
   "source": [
    "# Self"
   ]
  },
  {
   "cell_type": "code",
   "execution_count": 7,
   "id": "23c43893",
   "metadata": {},
   "outputs": [],
   "source": [
    "# self -> default parameter."
   ]
  },
  {
   "cell_type": "code",
   "execution_count": 34,
   "id": "403b921c",
   "metadata": {},
   "outputs": [],
   "source": [
    "class Fraction :\n",
    "    #parameterized constructor. -> take inputs in the args\n",
    "    def __init__(self ,x,y):\n",
    "        self.num = x\n",
    "        self.den = y\n",
    "    def __str__(self):\n",
    "        return '{}/{}'.format(self.num,self.den)\n",
    "    def __add__(self,other):\n",
    "        new_num = self.num*other.den + other.num*self.den\n",
    "        new_den = self.den*other.den\n",
    "        return '{}/{}'.format(new_num,new_den)\n",
    "    def __sub__(self,other):\n",
    "        new_num = self.num*other.den - other.num*self.den\n",
    "        new_den = self.den*other.den\n",
    "        return '{}/{}'.format(new_num,new_den)\n",
    "    \n",
    "    def __mul__(self,other):\n",
    "        new_num = self.num*other.num\n",
    "        new_den = self.den*other.den\n",
    "        return '{}/{}'.format(new_num,new_den)\n",
    "    \n",
    "    def __truediv__(self,other):\n",
    "        new_num = self.num*other.den\n",
    "        new_den = self.den*other.num\n",
    "        return '{}/{}'.format(new_num,new_den)\n",
    "    "
   ]
  },
  {
   "cell_type": "code",
   "execution_count": 37,
   "id": "7a6c3069",
   "metadata": {},
   "outputs": [],
   "source": [
    "f1 = Fraction(2,3)\n"
   ]
  },
  {
   "cell_type": "code",
   "execution_count": 18,
   "id": "11b5b67c",
   "metadata": {},
   "outputs": [
    {
     "name": "stdout",
     "output_type": "stream",
     "text": [
      "<class '__main__.Fraction'>\n"
     ]
    }
   ],
   "source": [
    "print(type(f1))"
   ]
  },
  {
   "cell_type": "code",
   "execution_count": 38,
   "id": "39015239",
   "metadata": {},
   "outputs": [
    {
     "name": "stdout",
     "output_type": "stream",
     "text": [
      "2/3\n"
     ]
    }
   ],
   "source": [
    "print(f1)"
   ]
  },
  {
   "cell_type": "code",
   "execution_count": 39,
   "id": "fc6317da",
   "metadata": {},
   "outputs": [],
   "source": [
    "f2 = Fraction(1,2)"
   ]
  },
  {
   "cell_type": "code",
   "execution_count": 40,
   "id": "8cdf16d6",
   "metadata": {},
   "outputs": [
    {
     "name": "stdout",
     "output_type": "stream",
     "text": [
      "1/2\n"
     ]
    }
   ],
   "source": [
    "print(f2)"
   ]
  },
  {
   "cell_type": "code",
   "execution_count": 44,
   "id": "58396fd6",
   "metadata": {},
   "outputs": [
    {
     "name": "stdout",
     "output_type": "stream",
     "text": [
      "7/6\n",
      "1/6\n",
      "2/6\n",
      "4/3\n"
     ]
    }
   ],
   "source": [
    "print(f1+f2)\n",
    "print(f1-f2)\n",
    "print(f1*f2)\n",
    "print(f1/f2)"
   ]
  }
 ],
 "metadata": {
  "kernelspec": {
   "display_name": "Python 3 (ipykernel)",
   "language": "python",
   "name": "python3"
  },
  "language_info": {
   "codemirror_mode": {
    "name": "ipython",
    "version": 3
   },
   "file_extension": ".py",
   "mimetype": "text/x-python",
   "name": "python",
   "nbconvert_exporter": "python",
   "pygments_lexer": "ipython3",
   "version": "3.11.4"
  }
 },
 "nbformat": 4,
 "nbformat_minor": 5
}
