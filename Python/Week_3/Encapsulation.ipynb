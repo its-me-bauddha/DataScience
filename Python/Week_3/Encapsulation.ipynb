{
 "cells": [
  {
   "cell_type": "code",
   "execution_count": 4,
   "id": "c0a44b35",
   "metadata": {},
   "outputs": [],
   "source": [
    "class Person :\n",
    "    def __init__(self,nameInput ,countryInput):\n",
    "        self.name = nameInput\n",
    "        self.country = countryInput\n",
    "        \n",
    "p1 = Person('nitish','India')\n",
    "p2 = Person('steve' , 'australia')"
   ]
  },
  {
   "cell_type": "code",
   "execution_count": 6,
   "id": "ccbd5921",
   "metadata": {},
   "outputs": [
    {
     "data": {
      "text/plain": [
       "'nitish'"
      ]
     },
     "execution_count": 6,
     "metadata": {},
     "output_type": "execute_result"
    }
   ],
   "source": [
    "p1.name"
   ]
  },
  {
   "cell_type": "code",
   "execution_count": 9,
   "id": "c7998de1",
   "metadata": {},
   "outputs": [
    {
     "data": {
      "text/plain": [
       "'steve'"
      ]
     },
     "execution_count": 9,
     "metadata": {},
     "output_type": "execute_result"
    }
   ],
   "source": [
    "p2.name"
   ]
  },
  {
   "cell_type": "code",
   "execution_count": 3,
   "id": "46ad38b9",
   "metadata": {},
   "outputs": [],
   "source": [
    "class Atm :\n",
    "    # constructor - > function class inside the class\n",
    "    def __init__(self):\n",
    "        self.pin = ''\n",
    "        self.__balance = 0\n",
    "        self.menu()\n",
    "    def menu(self):\n",
    "        user_input =  input(\"\"\"\n",
    "        Hi how can I help you\n",
    "        1.Press 1 to create pin\n",
    "        2.Press 2 to change pin\n",
    "        3.Press 3 to check balance\n",
    "        4.Press 4 to withdraw \n",
    "        5.Press anything  to exit\n",
    "        \"\"\")\n",
    "        if user_input =='1':\n",
    "            #create pin\n",
    "            self.create_pin()\n",
    "        elif user_input =='2':\n",
    "            #change pin\n",
    "            self.change_pin()\n",
    "        elif user_input =='3':\n",
    "            # check balance\n",
    "            self.check_balance()\n",
    "        elif user_input =='4':\n",
    "            # withdraw\n",
    "            self.withdraw()\n",
    "        else:\n",
    "            exit()\n",
    "    def create_pin(self):\n",
    "        user_pin = input('enter your pin => ')\n",
    "        self.pin = user_pin\n",
    "        \n",
    "        user_balance = int(input('enter your balance => '))\n",
    "        self.balance = user_balance\n",
    "        print('pin created successfully !! ')\n",
    "        self.menu()\n",
    "    def change_pin(self):\n",
    "        old_pin = input('enter your previous pin => ')\n",
    "        if old_pin == self.pin:\n",
    "            #change pin\n",
    "            new_pin = input('enter your new pin => ')\n",
    "            self.pin = new_pin\n",
    "            print('pin change successfully')\n",
    "            self.menu()\n",
    "        else :\n",
    "            print('invalid pin !! ')\n",
    "            self.menu()\n",
    "    def check_balance(self):\n",
    "        user_pin = input('enter your pin => ')\n",
    "        if(user_pin == self.pin):\n",
    "            print('your balance is => ' , self.balance)\n",
    "            self.menu()\n",
    "        else :\n",
    "            print('invalid pin !! ')\n",
    "            self.menu()\n",
    "    def withdraw(self):\n",
    "        user_pin = input('enter your pin => ')\n",
    "        if(user_pin == self.pin):\n",
    "            cash = int(input('enter amount to withdraw => '))\n",
    "            if(self.balance >= cash and self.balance >0):\n",
    "                self.balance -= cash\n",
    "                print('cash withdrwal successfully' , cash)\n",
    "                self.menu()\n",
    "            else :\n",
    "                print('not enough balance !!')\n",
    "                self.menu()\n",
    "        else :\n",
    "            print('Invalid pin !! ')\n",
    "            self.menu()"
   ]
  },
  {
   "cell_type": "code",
   "execution_count": 14,
   "id": "24c00a37",
   "metadata": {},
   "outputs": [
    {
     "name": "stdout",
     "output_type": "stream",
     "text": [
      "\n",
      "        Hi how can I help you\n",
      "        1.Press 1 to create pin\n",
      "        2.Press 2 to change pin\n",
      "        3.Press 3 to check balance\n",
      "        4.Press 4 to withdraw \n",
      "        5.Press anything  to exit\n",
      "        1\n",
      "enter your pin => 2\n",
      "enter your balance => 12\n",
      "pin created successfully !! \n",
      "\n",
      "        Hi how can I help you\n",
      "        1.Press 1 to create pin\n",
      "        2.Press 2 to change pin\n",
      "        3.Press 3 to check balance\n",
      "        4.Press 4 to withdraw \n",
      "        5.Press anything  to exit\n",
      "        7\n"
     ]
    }
   ],
   "source": [
    "obj=Atm()"
   ]
  },
  {
   "cell_type": "code",
   "execution_count": 2,
   "id": "d6f8386f",
   "metadata": {},
   "outputs": [
    {
     "ename": "NameError",
     "evalue": "name 'obj' is not defined",
     "output_type": "error",
     "traceback": [
      "\u001b[0;31m---------------------------------------------------------------------------\u001b[0m",
      "\u001b[0;31mNameError\u001b[0m                                 Traceback (most recent call last)",
      "Cell \u001b[0;32mIn[2], line 1\u001b[0m\n\u001b[0;32m----> 1\u001b[0m obj\u001b[38;5;241m.\u001b[39mbalance \u001b[38;5;241m=\u001b[39m \u001b[38;5;124m'\u001b[39m\u001b[38;5;124mhehe\u001b[39m\u001b[38;5;124m'\u001b[39m\n",
      "\u001b[0;31mNameError\u001b[0m: name 'obj' is not defined"
     ]
    }
   ],
   "source": [
    "obj.balance = 'hehe'"
   ]
  },
  {
   "cell_type": "code",
   "execution_count": null,
   "id": "97765749",
   "metadata": {},
   "outputs": [],
   "source": []
  }
 ],
 "metadata": {
  "kernelspec": {
   "display_name": "Python 3 (ipykernel)",
   "language": "python",
   "name": "python3"
  },
  "language_info": {
   "codemirror_mode": {
    "name": "ipython",
    "version": 3
   },
   "file_extension": ".py",
   "mimetype": "text/x-python",
   "name": "python",
   "nbconvert_exporter": "python",
   "pygments_lexer": "ipython3",
   "version": "3.11.4"
  }
 },
 "nbformat": 4,
 "nbformat_minor": 5
}
