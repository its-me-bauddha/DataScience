{
 "cells": [
  {
   "cell_type": "code",
   "execution_count": null,
   "id": "b4020cd9",
   "metadata": {},
   "outputs": [],
   "source": [
    "Write OOP classes to handle the following scenarios :\n",
    "    * A user can create and view 2D coordinates \n",
    "    * A user can find out the distance between 2 coordinates\n",
    "    * A user can find the distance of a coordinate from origin\n",
    "    * A user can check if a point lies on a given line\n",
    "    * A user can find the distance between a given 2D point and a given line."
   ]
  },
  {
   "cell_type": "code",
   "execution_count": 52,
   "id": "cc27b921",
   "metadata": {},
   "outputs": [],
   "source": [
    "class Point :\n",
    "    def __init__(self,x,y):\n",
    "        self.x_cod =x\n",
    "        self.y_cod =y\n",
    "    def __str__(self):\n",
    "        return '<{},{}>'.format(self.x_cod,self.y_cod)\n",
    "    \n",
    "    def euclaidean_distance(self,other):\n",
    "        return ((self.x_cod-other.x_cod)**2 + (self.y_cod - other.y_cod)**2)**0.5\n",
    "    \n",
    "    def distance_from_origin(self):\n",
    "        return self.euclaidean_distance(Point(0,0))\n",
    "\n",
    "class Line :\n",
    "    \n",
    "    def __init__(self,A,B,C):\n",
    "        self.A = A\n",
    "        self.B = B\n",
    "        self.C = C\n",
    "        \n",
    "    def __str__(self):\n",
    "        return '{}x + {}y + {} = 0 '.format(self.A,self.B,self.C)\n",
    "    def point_on_line(line,point):\n",
    "        if line.A*point.x_cod + line.B*point.y_cod + line.C == 0 :\n",
    "            return 'lies on the line'\n",
    "        else :\n",
    "            return 'does not lie on the line'\n",
    "        \n",
    "    def shortest_distance(line,point):\n",
    "        return abs(line.A*point.x_cod + line.B*point.y_cod +line.C)/(line.A**2 + line.B**2)**0.5"
   ]
  },
  {
   "cell_type": "code",
   "execution_count": 9,
   "id": "3b855c1d",
   "metadata": {},
   "outputs": [
    {
     "name": "stdout",
     "output_type": "stream",
     "text": [
      "<4,4>\n"
     ]
    }
   ],
   "source": [
    "p1 = Point(4,4)\n",
    "# <x,y>\n",
    "print(p1)"
   ]
  },
  {
   "cell_type": "code",
   "execution_count": 12,
   "id": "10ee677e",
   "metadata": {},
   "outputs": [
    {
     "name": "stdout",
     "output_type": "stream",
     "text": [
      "<0,0>\n"
     ]
    }
   ],
   "source": [
    "p2 = Point(0,0)\n",
    "print(p2)"
   ]
  },
  {
   "cell_type": "code",
   "execution_count": 16,
   "id": "d8dabbcf",
   "metadata": {},
   "outputs": [
    {
     "data": {
      "text/plain": [
       "3.605551275463989"
      ]
     },
     "execution_count": 16,
     "metadata": {},
     "output_type": "execute_result"
    }
   ],
   "source": [
    "p3 = Point(1,2)\n",
    "p3.euclaidean_distance(p1)"
   ]
  },
  {
   "cell_type": "code",
   "execution_count": 24,
   "id": "dd112dfe",
   "metadata": {},
   "outputs": [
    {
     "data": {
      "text/plain": [
       "5.0"
      ]
     },
     "execution_count": 24,
     "metadata": {},
     "output_type": "execute_result"
    }
   ],
   "source": [
    "p4 = Point(3,4)\n",
    "p4.distance_from_origin()"
   ]
  },
  {
   "cell_type": "code",
   "execution_count": 38,
   "id": "0fcc59e4",
   "metadata": {},
   "outputs": [
    {
     "name": "stdout",
     "output_type": "stream",
     "text": [
      "1x + 2y + 3 = 0 \n"
     ]
    }
   ],
   "source": [
    "l1 = Line(1,2,3)\n",
    "print(l1)"
   ]
  },
  {
   "cell_type": "code",
   "execution_count": 54,
   "id": "1716155d",
   "metadata": {},
   "outputs": [
    {
     "name": "stdout",
     "output_type": "stream",
     "text": [
      "1x + 1y + -2 = 0 \n",
      "<1,2>\n"
     ]
    }
   ],
   "source": [
    "l2 = Line(1,1,-2)\n",
    "p3 = Point(1,2)\n",
    "print(l2)\n",
    "print(p3)"
   ]
  },
  {
   "cell_type": "code",
   "execution_count": 53,
   "id": "cade2c6f",
   "metadata": {},
   "outputs": [
    {
     "data": {
      "text/plain": [
       "'does not lie on the line'"
      ]
     },
     "execution_count": 53,
     "metadata": {},
     "output_type": "execute_result"
    }
   ],
   "source": [
    "l2.point_on_line(p3)"
   ]
  },
  {
   "cell_type": "code",
   "execution_count": 1,
   "id": "9f43e22d",
   "metadata": {},
   "outputs": [
    {
     "ename": "NameError",
     "evalue": "name 'l2' is not defined",
     "output_type": "error",
     "traceback": [
      "\u001b[0;31m---------------------------------------------------------------------------\u001b[0m",
      "\u001b[0;31mNameError\u001b[0m                                 Traceback (most recent call last)",
      "Cell \u001b[0;32mIn[1], line 1\u001b[0m\n\u001b[0;32m----> 1\u001b[0m l2\u001b[38;5;241m.\u001b[39mshortest_distance(p3)\n",
      "\u001b[0;31mNameError\u001b[0m: name 'l2' is not defined"
     ]
    }
   ],
   "source": [
    "l2.shortest_distance(p3)"
   ]
  },
  {
   "cell_type": "raw",
   "id": "9634cd46",
   "metadata": {},
   "source": [
    "# reference variable\n",
    " * holds the objects\n",
    " * object have multiple reference variable"
   ]
  },
  {
   "cell_type": "code",
   "execution_count": 3,
   "id": "3f617d0d",
   "metadata": {},
   "outputs": [
    {
     "data": {
      "text/plain": [
       "<__main__.Person at 0x105117150>"
      ]
     },
     "execution_count": 3,
     "metadata": {},
     "output_type": "execute_result"
    }
   ],
   "source": [
    "# object without a reference \n",
    "class Person :\n",
    "    def __init__(self) :\n",
    "        self.name = 'nitish'\n",
    "        self.gender = 'male'\n",
    "Person()"
   ]
  },
  {
   "cell_type": "code",
   "execution_count": 6,
   "id": "5f3df8ea",
   "metadata": {},
   "outputs": [
    {
     "name": "stdout",
     "output_type": "stream",
     "text": [
      "<__main__.Person object at 0x105103990>\n"
     ]
    }
   ],
   "source": [
    "p = Person()\n",
    "print(p)"
   ]
  },
  {
   "cell_type": "code",
   "execution_count": 12,
   "id": "75ce4ef0",
   "metadata": {},
   "outputs": [
    {
     "name": "stdout",
     "output_type": "stream",
     "text": [
      "Hi my name is nitish and I am a male\n"
     ]
    }
   ],
   "source": [
    "# Pass by Reference\n",
    "class Person :\n",
    "    def __init__(self,name,gender) :\n",
    "        self.name = 'nitish'\n",
    "        self.gender = 'male'\n",
    "# outside the class\n",
    "def greet(person):\n",
    "    print('Hi my name is',person.name , 'and I am a', person.gender)\n",
    "p2=Person('nitish','male')\n",
    "greet(p2)"
   ]
  },
  {
   "cell_type": "code",
   "execution_count": null,
   "id": "16120172",
   "metadata": {},
   "outputs": [],
   "source": [
    "# object ki mutability\n"
   ]
  }
 ],
 "metadata": {
  "kernelspec": {
   "display_name": "Python 3 (ipykernel)",
   "language": "python",
   "name": "python3"
  },
  "language_info": {
   "codemirror_mode": {
    "name": "ipython",
    "version": 3
   },
   "file_extension": ".py",
   "mimetype": "text/x-python",
   "name": "python",
   "nbconvert_exporter": "python",
   "pygments_lexer": "ipython3",
   "version": "3.11.4"
  }
 },
 "nbformat": 4,
 "nbformat_minor": 5
}
